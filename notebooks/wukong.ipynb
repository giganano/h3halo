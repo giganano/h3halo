{
 "cells": [
  {
   "cell_type": "code",
   "execution_count": 1,
   "id": "b6d03aec",
   "metadata": {},
   "outputs": [
    {
     "name": "stderr",
     "output_type": "stream",
     "text": [
      "/var/home/johnson.7419.local/VICE/vice/__init__.py:141: UserWarning: Using un-released version of VICE\n",
      "  warnings.warn(\"Using un-released version of VICE\", UserWarning)\n"
     ]
    },
    {
     "name": "stdout",
     "output_type": "stream",
     "text": [
      "sys.version_info(major=3, minor=10, micro=4, releaselevel='final', serial=0)\n"
     ]
    }
   ],
   "source": [
    "%load_ext autoreload\n",
    "%autoreload 2\n",
    "import matplotlib.pyplot as plt\n",
    "from matplotlib.ticker import FormatStrFormatter as fsf\n",
    "from mpl_toolkits.axes_grid1 import make_axes_locatable\n",
    "from matplotlib.ticker import FormatStrFormatter as fsf\n",
    "from matplotlib.gridspec import GridSpec\n",
    "from plots.mpltoolkit import (named_colors, mpl_loc,\n",
    "    fancy_legend, load_mpl_presets, append_axes, markers, append_axes)\n",
    "import vice\n",
    "import numpy as np\n",
    "import math as m\n",
    "import random\n",
    "import sys\n",
    "sys.path.append(\"..\")\n",
    "from src.utils import linear_exponential, exponential, chisquared\n",
    "load_mpl_presets()\n",
    "print(sys.version_info)"
   ]
  },
  {
   "cell_type": "code",
   "execution_count": 5,
   "id": "aac9685f",
   "metadata": {},
   "outputs": [
    {
     "name": "stdout",
     "output_type": "stream",
     "text": [
      "57\n"
     ]
    }
   ],
   "source": [
    "raw = np.genfromtxt(\"../data/wukong/wukong.dat\")\n",
    "data = vice.dataframe({})\n",
    "data[\"[fe/h]\"] = raw[:, 0]\n",
    "data[\"[fe/h]_err\"] = raw[:, 1]\n",
    "data[\"[o/fe]\"] = raw[:, 2]\n",
    "data[\"[o/fe]_err\"] = raw[:, 3]\n",
    "print(len(data[\"[fe/h]\"]))"
   ]
  },
  {
   "cell_type": "code",
   "execution_count": 16,
   "id": "74437f5b",
   "metadata": {},
   "outputs": [
    {
     "data": {
      "image/png": "[encoded data removed]",
      "text/plain": [
       "<Figure size 360x360 with 1 Axes>"
      ]
     },
     "metadata": {},
     "output_type": "display_data"
    }
   ],
   "source": [
    "fig = plt.figure()\n",
    "ax = fig.add_subplot(111)\n",
    "ax.set_xlabel(\"[Fe/H]\")\n",
    "ax.set_ylabel(r\"[$\\alpha$/Fe]\")\n",
    "ax.set_xlim([-3.5, -1.3])\n",
    "ax.set_ylim([0, 0.6])\n",
    "\n",
    "med_feh_err = np.median(data[\"[fe/h]_err\"])\n",
    "med_ofe_err = np.median(data[\"[o/fe]_err\"])\n",
    "ax.scatter(data[\"[fe/h]\"], data[\"[o/fe]\"], c = named_colors()[\"black\"], s = 20)\n",
    "ax.errorbar(-3, 0.2, xerr = med_feh_err, yerr = med_ofe_err, c = named_colors()[\"black\"])\n",
    "# ax.errorbar(data[\"[fe/h]\"], data[\"[o/fe]\"], xerr = data[\"[fe/h]_err\"], yerr = data[\"[o/fe]_err\"],\n",
    "#     c = named_colors()[\"black\"], linestyle = \"None\")\n",
    "\n",
    "plt.tight_layout()\n",
    "plt.show()"
   ]
  },
  {
   "cell_type": "code",
   "execution_count": null,
   "id": "f0f5423f",
   "metadata": {},
   "outputs": [],
   "source": []
  }
 ],
 "metadata": {
  "kernelspec": {
   "display_name": "Python [conda env:python3.10] *",
   "language": "python",
   "name": "conda-env-python3.10-py"
  },
  "language_info": {
   "codemirror_mode": {
    "name": "ipython",
    "version": 3
   },
   "file_extension": ".py",
   "mimetype": "text/x-python",
   "name": "python",
   "nbconvert_exporter": "python",
   "pygments_lexer": "ipython3",
   "version": "3.10.4"
  }
 },
 "nbformat": 4,
 "nbformat_minor": 5
}
