{
 "cells": [
  {
   "cell_type": "code",
   "execution_count": 1,
   "id": "b6d03aec",
   "metadata": {},
   "outputs": [
    {
     "name": "stderr",
     "output_type": "stream",
     "text": [
      "/var/home/johnson.7419.local/VICE/vice/__init__.py:141: UserWarning: Using un-released version of VICE\n",
      "  warnings.warn(\"Using un-released version of VICE\", UserWarning)\n"
     ]
    },
    {
     "name": "stdout",
     "output_type": "stream",
     "text": [
      "sys.version_info(major=3, minor=10, micro=4, releaselevel='final', serial=0)\n"
     ]
    }
   ],
   "source": [
    "%load_ext autoreload\n",
    "%autoreload 2\n",
    "import matplotlib.pyplot as plt\n",
    "from matplotlib.ticker import FormatStrFormatter as fsf\n",
    "from mpl_toolkits.axes_grid1 import make_axes_locatable\n",
    "from matplotlib.ticker import FormatStrFormatter as fsf\n",
    "from matplotlib.gridspec import GridSpec\n",
    "from plots.mpltoolkit import (named_colors, mpl_loc,\n",
    "    fancy_legend, load_mpl_presets, append_axes, markers, append_axes)\n",
    "import vice\n",
    "import numpy as np\n",
    "import math as m\n",
    "import random\n",
    "import sys\n",
    "sys.path.append(\"..\")\n",
    "from src.utils import linear_exponential, exponential, chisquared\n",
    "load_mpl_presets()\n",
    "print(sys.version_info)"
   ]
  },
  {
   "cell_type": "code",
   "execution_count": 2,
   "id": "aac9685f",
   "metadata": {},
   "outputs": [
    {
     "name": "stdout",
     "output_type": "stream",
     "text": [
      "57\n",
      "vice.dataframe{\n",
      "    tau_in ---------> [66.4541, 7.35928, 2.81745, ... , 2.78618, 2.08743, 3.44114]\n",
      "    eta ------------> [35.8195, 42.744, 54.5502, ... , 54.0377, 52.0808, 44.3725]\n",
      "    tau_star -------> [48.0145, 49.454, 41.379, ... , 42.4426, 42.3663, 54.6515]\n",
      "    tau_tot --------> [3.94908, 3.67484, 3.34251, ... , 3.35523, 2.98343, 3.51842]\n",
      "    logp -----------> [8.034, 12.191, 14.094, ... , 14.543, 16.843, 14.314]\n",
      "}\n"
     ]
    }
   ],
   "source": [
    "raw = np.genfromtxt(\"../data/wukong/wukong.dat\")\n",
    "data = vice.dataframe({})\n",
    "data[\"[fe/h]\"] = raw[:, 0]\n",
    "data[\"[fe/h]_err\"] = raw[:, 1]\n",
    "data[\"[o/fe]\"] = raw[:, 2]\n",
    "data[\"[o/fe]_err\"] = raw[:, 3]\n",
    "print(len(data[\"[fe/h]\"]))\n",
    "\n",
    "raw = np.genfromtxt(\"../data/wukong/wukong_expifr_102k4.out\")\n",
    "raw = np.array(list(filter(lambda _: not np.isinf(_[-1]), raw)))\n",
    "raw = np.array(list(filter(lambda _: _[0] <= 100, raw)))\n",
    "raw = np.array(list(filter(lambda _: _[-2] <= 6, raw)))\n",
    "chain = vice.dataframe({})\n",
    "chain[\"tau_in\"] = raw[:, 0]\n",
    "chain[\"eta\"] = raw[:, 1]\n",
    "chain[\"tau_star\"] = raw[:, 2]\n",
    "chain[\"tau_tot\"] = raw[:, 3]\n",
    "minlogp = min(raw[:, 4])\n",
    "chain[\"logp\"] = [_ - minlogp for _ in raw[:, 4]]\n",
    "print(chain)"
   ]
  },
  {
   "cell_type": "code",
   "execution_count": 3,
   "id": "74437f5b",
   "metadata": {},
   "outputs": [
    {
     "name": "stdout",
     "output_type": "stream",
     "text": [
      "9.120000000000008\n",
      "2.5840000000000005\n"
     ]
    },
    {
     "name": "stderr",
     "output_type": "stream",
     "text": [
      "/var/home/johnson.7419.local/VICE/vice/core/pickles.py:310: UserWarning: Encoding functions along with VICE outputs requires the package dill (installable via pip). The following attribute will not be saved with this output: func\n",
      "  warnings.warn(\"\"\"\\\n",
      "/home/johnson.7419/tmp/ipykernel_21784/2110194122.py:107: UserWarning: This figure includes Axes that are not compatible with tight_layout, so results might be incorrect.\n",
      "  plt.tight_layout()\n"
     ]
    },
    {
     "data": {
      "image/png": "[encoded data removed]",
      "text/plain": [
       "<Figure size 360x360 with 3 Axes>"
      ]
     },
     "metadata": {},
     "output_type": "display_data"
    }
   ],
   "source": [
    "fig = plt.figure()\n",
    "ax = fig.add_subplot(111)\n",
    "ax.set_xlabel(\"[Fe/H]\")\n",
    "ax.set_ylabel(r\"[$\\alpha$/Fe]\")\n",
    "ax.set_xlim([-3.6, -1.2])\n",
    "ax.set_ylim([-0.04, 0.64])\n",
    "\n",
    "top = fig.add_axes([0.1, 0.9, 0.8, 0.1])\n",
    "right = fig.add_axes([0.9, 0.1, 0.1, 0.8])\n",
    "plt.setp(top.get_xticklabels(), visible = False)\n",
    "plt.setp(top.get_yticklabels(), visible = False)\n",
    "plt.setp(right.get_xticklabels(), visible = False)\n",
    "plt.setp(right.get_yticklabels(), visible = False)\n",
    "top.set_xlim(ax.get_xlim())\n",
    "top.set_ylim([0, 3.5])\n",
    "top.tick_params(axis = \"y\", which = \"both\", left = False, right = False)\n",
    "right.set_xlim([0, 8])\n",
    "right.set_ylim(ax.get_ylim())\n",
    "right.tick_params(axis = \"x\", which = \"both\", bottom = False, top = False)\n",
    "\n",
    "# med_feh_err = np.median(data[\"[fe/h]_err\"])\n",
    "# med_ofe_err = np.median(data[\"[o/fe]_err\"])\n",
    "# ax.scatter(data[\"[fe/h]\"], data[\"[o/fe]\"], c = named_colors()[\"black\"], s = 20)\n",
    "# ax.errorbar(-3, 0.2, xerr = med_feh_err, yerr = med_ofe_err, c = named_colors()[\"black\"])\n",
    "ax.errorbar(data[\"[fe/h]\"], data[\"[o/fe]\"], xerr = data[\"[fe/h]_err\"], yerr = data[\"[o/fe]_err\"],\n",
    "    c = named_colors()[\"black\"], linestyle = \"None\")\n",
    "\n",
    "kwargs = {\n",
    "    \"bins\": 15,\n",
    "    \"range\": ax.get_xlim(),\n",
    "#     \"density\": True\n",
    "}\n",
    "feh_counts, _ = np.histogram(data[\"[fe/h]\"], density = False, **kwargs)\n",
    "feh_dist, feh_bins = np.histogram(data[\"[fe/h]\"], density = True, **kwargs)\n",
    "idx = feh_counts.tolist().index(max(feh_counts))\n",
    "norm = feh_counts[idx] / feh_dist[idx]\n",
    "print(norm)\n",
    "errors = [np.sqrt(_) / norm for _ in feh_counts]\n",
    "top.step(feh_bins[:-1], feh_dist, where = \"post\", c = named_colors()[\"black\"])\n",
    "xvals = [(a + b) / 2 for a, b in zip(feh_bins[1:], feh_bins[:-1])]\n",
    "top.errorbar(xvals, feh_dist, yerr = errors, c = named_colors()[\"black\"], linestyle = \"None\", zorder = 100)\n",
    "\n",
    "kwargs[\"range\"] = ax.get_ylim()\n",
    "afe_counts, _ = np.histogram(data[\"[o/fe]\"], density = False, **kwargs)\n",
    "afe_dist, afe_bins = np.histogram(data[\"[o/fe]\"], density = True, **kwargs)\n",
    "idx = afe_counts.tolist().index(max(afe_counts))\n",
    "norm = afe_counts[idx] / afe_dist[idx]\n",
    "print(norm)\n",
    "errors = [np.sqrt(_) / norm for _ in afe_counts]\n",
    "right.step(afe_dist, afe_bins[:-1], where = \"pre\", c = named_colors()[\"black\"])\n",
    "xvals = [(a + b) / 2 for a, b in zip(afe_bins[1:], afe_bins[:-1])]\n",
    "right.errorbar(afe_dist, xvals, xerr = errors, c = named_colors()[\"black\"], linestyle = \"None\", zorder = 100)\n",
    "\n",
    "duration = 3.44\n",
    "with vice.singlezone(name = \"wukong\") as sz:\n",
    "    sz.elements = [\"fe\", \"o\"]\n",
    "    sz.func = exponential(prefactor = 1000)\n",
    "    sz.func.timescale = 3.47\n",
    "#     sz.func = lambda t: 1000\n",
    "    sz.mode = \"ifr\"\n",
    "    sz.Mg0 = 0\n",
    "    sz.eta = 47.27\n",
    "    sz.tau_star = 45.46\n",
    "    sz.dt = duration / 1000\n",
    "    sz.bins = np.linspace(-5, 1, 601)\n",
    "    vice.yields.ccsne.settings['o'] = 0.01\n",
    "    vice.yields.sneia.settings['o'] = 0\n",
    "    vice.yields.ccsne.settings['fe'] = 7.78e-4\n",
    "    vice.yields.sneia.settings['fe'] = 1.23e-3\n",
    "    bfout = sz.run(np.linspace(0, duration, 1001), overwrite = True, capture = True)\n",
    "    \n",
    "ax.text(-3.4, 0.04, r\"$\\chi_\\text{dof}^2 = 0.98$\", fontsize = 20)\n",
    "ax.plot(bfout.history[\"[fe/h]\"], bfout.history[\"[o/fe]\"], c = named_colors()[\"crimson\"])\n",
    "xvals = [(a + b) / 2 for a, b in zip(bfout.mdf[\"bin_edge_left\"], bfout.mdf[\"bin_edge_right\"])]\n",
    "top.plot(xvals, bfout.mdf[\"dn/d[fe/h]\"], c = named_colors()[\"crimson\"])\n",
    "right.plot(bfout.mdf[\"dn/d[o/fe]\"], xvals, c = named_colors()[\"crimson\"])\n",
    "\n",
    "# random.seed(a = 0)\n",
    "# n_subs = 200\n",
    "# prob = [m.exp(_) for _ in chain[\"logp\"]]\n",
    "# norm = sum(prob)\n",
    "# prob = [_ / norm for _ in prob]\n",
    "# indeces = np.random.choice(list(range(len(prob))), p = prob, size = n_subs)\n",
    "# kwargs = {\"c\": named_colors()[\"crimson\"]}\n",
    "\n",
    "# with vice.singlezone(name = \"sampled\") as sz:\n",
    "#     sz.elements = [\"fe\", \"o\"]\n",
    "#     sz.func = exponential(prefactor = 1000)\n",
    "#     sz.mode = \"ifr\"\n",
    "#     sz.Mg0 = 0\n",
    "#     sz.nthreads = 2\n",
    "#     sz.bins = np.linspace(-5, 1, 601)\n",
    "#     xvals = [(a + b) / 2 for a, b in zip(sz.bins[1:], sz.bins[:-1])]\n",
    "#     for i in range(n_subs):\n",
    "#         sz.func.timescale = chain[\"tau_in\"][indeces[i]]\n",
    "#         sz.tau_star = chain[\"tau_star\"][indeces[i]]\n",
    "#         sz.eta = chain[\"eta\"][indeces[i]]\n",
    "#         sz.dt = chain[\"tau_tot\"][indeces[i]] / 500\n",
    "#         out = sz.run(np.linspace(0, chain[\"tau_tot\"][indeces[i]], 501), overwrite = True, capture = True)\n",
    "        \n",
    "#         ax.plot(out.history[\"[fe/h]\"], out.history[\"[o/fe]\"], alpha = 0.02, **kwargs)\n",
    "#         top.plot(xvals, out.mdf[\"dn/d[fe/h]\"], alpha = 0.01, **kwargs)\n",
    "#         right.plot(out.mdf[\"dn/d[o/fe]\"], xvals, alpha = 0.01, **kwargs)\n",
    "#         sys.stdout.write(\"\\r%d\" % (i))\n",
    "#     sys.stdout.write(\"\\n\")\n",
    "\n",
    "plt.tight_layout()\n",
    "plt.subplots_adjust(right = 0.8, top = 0.8)\n",
    "top.set_position([\n",
    "    ax.get_position().x0,\n",
    "    ax.get_position().y1,\n",
    "    ax.get_position().x1 - ax.get_position().x0,\n",
    "    0.15\n",
    "])\n",
    "right.set_position([\n",
    "    ax.get_position().x1,\n",
    "    ax.get_position().y0,\n",
    "    0.15,\n",
    "    ax.get_position().y1 - ax.get_position().y0\n",
    "])\n",
    "# for ext in [\"pdf\", \"jpeg\"]:\n",
    "#     kwargs = {}\n",
    "#     if ext == \"jpeg\": kwargs[\"dpi\"] = 200\n",
    "#     plt.savefig(\"../paper/wukong_bestfit.%s\" % (ext), **kwargs)\n",
    "plt.show()"
   ]
  },
  {
   "cell_type": "code",
   "execution_count": 4,
   "id": "f0f5423f",
   "metadata": {},
   "outputs": [
    {
     "name": "stdout",
     "output_type": "stream",
     "text": [
      "114\n",
      "0.9816522731161818\n"
     ]
    }
   ],
   "source": [
    "cosmological_age = 13.2\n",
    "quantities = list(filter(lambda _: not _.endswith(\"_err\"), data.keys()))\n",
    "# sub = vice.dataframe(mock.todict())\n",
    "# sub[\"age\"] = [m.log10(_) for _ in sub[\"age\"]]\n",
    "# sub[\"age_err\"] = [0.1 if not m.isnan(_) else float(\"nan\") for _ in sub[\"age\"]]\n",
    "sample = np.array([data[key] for key in quantities]).T\n",
    "errors = np.array([data[\"%s_err\" % (key)] for key in quantities]).T\n",
    "model = len(bfout.history[\"time\"]) * [None]\n",
    "for i in range(len(model)):\n",
    "    model[i] = len(quantities) * [0.]\n",
    "    for j in range(len(quantities)):\n",
    "#         if quantities[j] == \"age\":\n",
    "#             model[i][j] = m.log10(bfout.history[\"lookback\"][i] + cosmological_age - bf_duration)\n",
    "#         else:\n",
    "        model[i][j] = bfout.history[quantities[j]][i]\n",
    "model = model[1:] # chop off the -inf [Fe/H] predicted at t = 0\n",
    "weights = bfout.history[\"sfr\"][1:]\n",
    "N = 0\n",
    "for i in range(len(sample)):\n",
    "    for j in range(len(sample[i])):\n",
    "        if not m.isnan(sample[i][j]): N += 1\n",
    "print(N)\n",
    "chisq = chisquared(sample, errors, model, weights)\n",
    "print(chisq / (N - 6))"
   ]
  },
  {
   "cell_type": "code",
   "execution_count": 19,
   "id": "609ce686",
   "metadata": {},
   "outputs": [
    {
     "data": {
      "image/png": "[encoded data removed]",
      "text/plain": [
       "<Figure size 360x360 with 1 Axes>"
      ]
     },
     "metadata": {},
     "output_type": "display_data"
    }
   ],
   "source": [
    "fig = plt.figure()\n",
    "ax = fig.add_subplot(111)\n",
    "ax.set_xlabel(\"Age [Gyr]\")\n",
    "ax.set_ylabel(\"P(Age)\")\n",
    "ax.set_xlim([8, 14])\n",
    "ax.set_ylim([0, 0.4])\n",
    "ax.set_yticks([0, 0.1, 0.2, 0.3, 0.4])\n",
    "\n",
    "xvals = [_ + 13.2 - bfout.history[\"time\"][-1] for _ in bfout.history[\"lookback\"]]\n",
    "norm = sum(bfout.history[\"sfr\"]) * (bfout.history[\"time\"][1] - bfout.history[\"time\"][0])\n",
    "yvals = [_ / norm for _ in bfout.history[\"sfr\"]]\n",
    "ax.plot(xvals, yvals, c = named_colors()[\"crimson\"])\n",
    "\n",
    "plt.tight_layout()\n",
    "plt.show()"
   ]
  },
  {
   "cell_type": "code",
   "execution_count": 5,
   "id": "9af9d7d7",
   "metadata": {},
   "outputs": [
    {
     "ename": "TypeError",
     "evalue": "matplotlib.axes._axes.Axes.plot() got multiple values for keyword argument 'c'",
     "output_type": "error",
     "traceback": [
      "\u001b[0;31m---------------------------------------------------------------------------\u001b[0m",
      "\u001b[0;31mTypeError\u001b[0m                                 Traceback (most recent call last)",
      "Input \u001b[0;32mIn [5]\u001b[0m, in \u001b[0;36m<cell line: 39>\u001b[0;34m()\u001b[0m\n\u001b[1;32m     61\u001b[0m         norm \u001b[38;5;241m=\u001b[39m \u001b[38;5;28msum\u001b[39m(out\u001b[38;5;241m.\u001b[39mhistory[\u001b[38;5;124m\"\u001b[39m\u001b[38;5;124msfr\u001b[39m\u001b[38;5;124m\"\u001b[39m]) \u001b[38;5;241m*\u001b[39m (out\u001b[38;5;241m.\u001b[39mhistory[\u001b[38;5;124m\"\u001b[39m\u001b[38;5;124mtime\u001b[39m\u001b[38;5;124m\"\u001b[39m][\u001b[38;5;241m1\u001b[39m] \u001b[38;5;241m-\u001b[39m out\u001b[38;5;241m.\u001b[39mhistory[\u001b[38;5;124m\"\u001b[39m\u001b[38;5;124mtime\u001b[39m\u001b[38;5;124m\"\u001b[39m][\u001b[38;5;241m0\u001b[39m])\n\u001b[1;32m     62\u001b[0m         yvals \u001b[38;5;241m=\u001b[39m [_ \u001b[38;5;241m/\u001b[39m norm \u001b[38;5;28;01mfor\u001b[39;00m _ \u001b[38;5;129;01min\u001b[39;00m out\u001b[38;5;241m.\u001b[39mhistory[\u001b[38;5;124m\"\u001b[39m\u001b[38;5;124msfr\u001b[39m\u001b[38;5;124m\"\u001b[39m]]\n\u001b[0;32m---> 63\u001b[0m         top\u001b[38;5;241m.\u001b[39mplot(xvals, yvals, c \u001b[38;5;241m=\u001b[39m named_colors()[\u001b[38;5;124m\"\u001b[39m\u001b[38;5;124mcrimson\u001b[39m\u001b[38;5;124m\"\u001b[39m], \u001b[38;5;241m*\u001b[39m\u001b[38;5;241m*\u001b[39mkwargs)\n\u001b[1;32m     65\u001b[0m         sys\u001b[38;5;241m.\u001b[39mstdout\u001b[38;5;241m.\u001b[39mwrite(\u001b[38;5;124m\"\u001b[39m\u001b[38;5;130;01m\\r\u001b[39;00m\u001b[38;5;132;01m%d\u001b[39;00m\u001b[38;5;124m\"\u001b[39m \u001b[38;5;241m%\u001b[39m (i))\n\u001b[1;32m     66\u001b[0m sys\u001b[38;5;241m.\u001b[39mstdout\u001b[38;5;241m.\u001b[39mwrite(\u001b[38;5;124m\"\u001b[39m\u001b[38;5;130;01m\\n\u001b[39;00m\u001b[38;5;124m\"\u001b[39m)\n",
      "\u001b[0;31mTypeError\u001b[0m: matplotlib.axes._axes.Axes.plot() got multiple values for keyword argument 'c'"
     ]
    },
    {
     "data": {
      "image/png": "[encoded data removed]",
      "text/plain": [
       "<Figure size 216x648 with 3 Axes>"
      ]
     },
     "metadata": {},
     "output_type": "display_data"
    }
   ],
   "source": [
    "fig = plt.figure(figsize = (3, 9))\n",
    "top = fig.add_subplot(311)\n",
    "middle = fig.add_subplot(312)\n",
    "bottom = fig.add_subplot(313)\n",
    "for ax in [top, middle, bottom]:\n",
    "    ax.set_xlim([8, 14])\n",
    "    ax.set_xticks([8, 10, 12, 14])\n",
    "#     ax.axvline(14, c = named_colors()[\"grey\"], linestyle = \"--\")\n",
    "plt.setp(top.get_xticklabels(which = \"both\"), visible = False)\n",
    "plt.setp(middle.get_xticklabels(which = \"both\"), visible = False)\n",
    "top.set_ylim([0, 0.4])\n",
    "middle.set_ylim([-3.8, -1.2])\n",
    "bottom.set_ylim([0, 0.6])\n",
    "bottom.set_xlabel(\"Age [Gyr]\")\n",
    "bottom.set_ylabel(r\"[$\\alpha$/Fe]\")\n",
    "middle.set_ylabel(\"[Fe/H]\")\n",
    "top.set_ylabel(\"P(Age)\")\n",
    "    \n",
    "with vice.output(\"./wukong\") as bfout:\n",
    "    diff = 13.2 - bfout.history[\"time\"][-1]\n",
    "    xvals = [_ + diff for _ in bfout.history[\"lookback\"]]\n",
    "    middle.plot(xvals, bfout.history[\"[fe/h]\"], c = named_colors()[\"crimson\"])\n",
    "    bottom.plot(xvals, bfout.history[\"[o/fe]\"], c = named_colors()[\"crimson\"])\n",
    "    xvals = [_ + 13.2 - bfout.history[\"time\"][-1] for _ in bfout.history[\"lookback\"]]\n",
    "    norm = sum(bfout.history[\"sfr\"]) * (bfout.history[\"time\"][1] - bfout.history[\"time\"][0])\n",
    "    yvals = [_ / norm for _ in bfout.history[\"sfr\"]]\n",
    "    top.plot(xvals, yvals, c = named_colors()[\"crimson\"])\n",
    "    \n",
    "random.seed(a = 0)\n",
    "n_subs = 200\n",
    "prob = [m.exp(_) for _ in chain[\"logp\"]]\n",
    "norm = sum(prob)\n",
    "prob = [_ / norm for _ in prob]\n",
    "indeces = np.random.choice(list(range(len(prob))), p = prob, size = n_subs)\n",
    "kwargs = {\n",
    "    \"c\": named_colors()[\"crimson\"]\n",
    "}\n",
    "\n",
    "with vice.singlezone(name = \"sampled\") as sz:\n",
    "    for i in range(n_subs):\n",
    "        sz.elements = [\"fe\", \"o\"]\n",
    "        sz.func = exponential(timescale = chain[\"tau_in\"][indeces[i]])\n",
    "        sz.func.timescale = chain[\"tau_in\"][indeces[i]]\n",
    "        sz.mode = \"ifr\"\n",
    "        sz.Mg0 = 0\n",
    "#         sz.nthreads = 2\n",
    "        sz.tau_star = chain[\"tau_star\"][indeces[i]]\n",
    "        sz.eta = chain[\"eta\"][indeces[i]]\n",
    "        sz.dt = chain[\"tau_tot\"][indeces[i]] / 500\n",
    "#         vice.yields.ccsne.settings['fe'] = chain[\"y_fe_cc\"][indeces[i]]\n",
    "#         vice.yields.sneia.settings['fe'] = chain[\"y_fe_ia\"][indeces[i]]\n",
    "        out = sz.run(np.linspace(0, chain[\"tau_tot\"][indeces[i]], 501),\n",
    "            overwrite = True, capture = True)\n",
    "\n",
    "        kwargs[\"alpha\"] = 0.01\n",
    "        diff = 13.2 - out.history[\"time\"][-1]\n",
    "        xvals = [_ + diff for _ in out.history[\"lookback\"]]\n",
    "        middle.plot(xvals, out.history[\"[fe/h]\"], **kwargs)\n",
    "        bottom.plot(xvals, out.history[\"[o/fe]\"], **kwargs)\n",
    "        xvals = [_ + 13.2 - out.history[\"time\"][-1] for _ in out.history[\"lookback\"]]\n",
    "        norm = sum(out.history[\"sfr\"]) * (out.history[\"time\"][1] - out.history[\"time\"][0])\n",
    "        yvals = [_ / norm for _ in out.history[\"sfr\"]]\n",
    "        top.plot(xvals, yvals, c = named_colors()[\"crimson\"], **kwargs)\n",
    "\n",
    "        sys.stdout.write(\"\\r%d\" % (i))\n",
    "sys.stdout.write(\"\\n\")\n",
    "\n",
    "plt.tight_layout()\n",
    "plt.subplots_adjust(hspace = 0)\n",
    "# plt.subplots_adjust(hspace = 0, left = 0.2)\n",
    "for ext in [\"pdf\", \"jpeg\"]:\n",
    "    kwargs = {}\n",
    "    if ext == \"jpeg\": kwargs[\"dpi\"] = 200\n",
    "    plt.savefig(\"../paper/wukong_agedist_amr.%s\" % (ext), **kwargs)\n",
    "plt.show()"
   ]
  },
  {
   "cell_type": "code",
   "execution_count": null,
   "id": "e9895be7",
   "metadata": {},
   "outputs": [],
   "source": []
  }
 ],
 "metadata": {
  "kernelspec": {
   "display_name": "Python [conda env:python3.10] *",
   "language": "python",
   "name": "conda-env-python3.10-py"
  },
  "language_info": {
   "codemirror_mode": {
    "name": "ipython",
    "version": 3
   },
   "file_extension": ".py",
   "mimetype": "text/x-python",
   "name": "python",
   "nbconvert_exporter": "python",
   "pygments_lexer": "ipython3",
   "version": "3.10.4"
  }
 },
 "nbformat": 4,
 "nbformat_minor": 5
}
