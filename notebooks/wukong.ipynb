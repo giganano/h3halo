{
 "cells": [
  {
   "cell_type": "code",
   "execution_count": 1,
   "id": "b6d03aec",
   "metadata": {},
   "outputs": [
    {
     "name": "stderr",
     "output_type": "stream",
     "text": [
      "/var/home/johnson.7419.local/VICE/vice/__init__.py:141: UserWarning: Using un-released version of VICE\n",
      "  warnings.warn(\"Using un-released version of VICE\", UserWarning)\n"
     ]
    },
    {
     "name": "stdout",
     "output_type": "stream",
     "text": [
      "sys.version_info(major=3, minor=10, micro=4, releaselevel='final', serial=0)\n"
     ]
    }
   ],
   "source": [
    "%load_ext autoreload\n",
    "%autoreload 2\n",
    "import matplotlib.pyplot as plt\n",
    "from matplotlib.ticker import FormatStrFormatter as fsf\n",
    "from mpl_toolkits.axes_grid1 import make_axes_locatable\n",
    "from matplotlib.ticker import FormatStrFormatter as fsf\n",
    "from matplotlib.gridspec import GridSpec\n",
    "from plots.mpltoolkit import (named_colors, mpl_loc,\n",
    "    fancy_legend, load_mpl_presets, append_axes, markers, append_axes)\n",
    "import vice\n",
    "import numpy as np\n",
    "import math as m\n",
    "import random\n",
    "import sys\n",
    "sys.path.append(\"..\")\n",
    "from src.utils import linear_exponential, exponential, chisquared\n",
    "load_mpl_presets()\n",
    "print(sys.version_info)"
   ]
  },
  {
   "cell_type": "code",
   "execution_count": 2,
   "id": "aac9685f",
   "metadata": {},
   "outputs": [
    {
     "name": "stdout",
     "output_type": "stream",
     "text": [
      "57\n"
     ]
    }
   ],
   "source": [
    "raw = np.genfromtxt(\"../data/wukong/wukong.dat\")\n",
    "data = vice.dataframe({})\n",
    "data[\"[fe/h]\"] = raw[:, 0]\n",
    "data[\"[fe/h]_err\"] = raw[:, 1]\n",
    "data[\"[o/fe]\"] = raw[:, 2]\n",
    "data[\"[o/fe]_err\"] = raw[:, 3]\n",
    "print(len(data[\"[fe/h]\"]))"
   ]
  },
  {
   "cell_type": "code",
   "execution_count": 7,
   "id": "74437f5b",
   "metadata": {},
   "outputs": [
    {
     "name": "stderr",
     "output_type": "stream",
     "text": [
      "/var/home/johnson.7419.local/VICE/vice/core/pickles.py:310: UserWarning: Encoding functions along with VICE outputs requires the package dill (installable via pip). The following attribute will not be saved with this output: func\n",
      "  warnings.warn(\"\"\"\\\n"
     ]
    },
    {
     "data": {
      "image/png": "[encoded data removed]",
      "text/plain": [
       "<Figure size 360x360 with 1 Axes>"
      ]
     },
     "metadata": {},
     "output_type": "display_data"
    }
   ],
   "source": [
    "fig = plt.figure()\n",
    "ax = fig.add_subplot(111)\n",
    "ax.set_xlabel(\"[Fe/H]\")\n",
    "ax.set_ylabel(r\"[$\\alpha$/Fe]\")\n",
    "ax.set_xlim([-3.5, -1.3])\n",
    "ax.set_ylim([-0.04, 0.64])\n",
    "\n",
    "# med_feh_err = np.median(data[\"[fe/h]_err\"])\n",
    "# med_ofe_err = np.median(data[\"[o/fe]_err\"])\n",
    "# ax.scatter(data[\"[fe/h]\"], data[\"[o/fe]\"], c = named_colors()[\"black\"], s = 20)\n",
    "# ax.errorbar(-3, 0.2, xerr = med_feh_err, yerr = med_ofe_err, c = named_colors()[\"black\"])\n",
    "ax.errorbar(data[\"[fe/h]\"], data[\"[o/fe]\"], xerr = data[\"[fe/h]_err\"], yerr = data[\"[o/fe]_err\"],\n",
    "    c = named_colors()[\"black\"], linestyle = \"None\")\n",
    "\n",
    "duration = 1.46\n",
    "with vice.singlezone(name = \"wukong\") as sz:\n",
    "    sz.elements = [\"fe\", \"o\"]\n",
    "    sz.func = exponential(prefactor = 1000)\n",
    "    sz.func.timescale\n",
    "    sz.mode = \"ifr\"\n",
    "    sz.Mg0 = 0\n",
    "    sz.eta = 10.33\n",
    "    sz.tau_star = 25.25\n",
    "    sz.dt = duration / 1000\n",
    "    vice.yields.ccsne.settings['o'] = 0.01\n",
    "    vice.yields.sneia.settings['o'] = 0\n",
    "    vice.yields.ccsne.settings['fe'] = 6.78e-4\n",
    "    vice.yields.sneia.settings['fe'] = 3.64e-3\n",
    "    bfout = sz.run(np.linspace(0, duration, 1001), overwrite = True, capture = True)\n",
    "\n",
    "ax.plot(bfout.history[\"[fe/h]\"], bfout.history[\"[o/fe]\"], c = named_colors()[\"crimson\"])\n",
    "    \n",
    "\n",
    "plt.tight_layout()\n",
    "plt.show()"
   ]
  },
  {
   "cell_type": "code",
   "execution_count": 9,
   "id": "f0f5423f",
   "metadata": {},
   "outputs": [
    {
     "name": "stdout",
     "output_type": "stream",
     "text": [
      "114\n",
      "0.9273885442657985\n"
     ]
    }
   ],
   "source": [
    "cosmological_age = 13.2\n",
    "quantities = list(filter(lambda _: not _.endswith(\"_err\"), data.keys()))\n",
    "# sub = vice.dataframe(mock.todict())\n",
    "# sub[\"age\"] = [m.log10(_) for _ in sub[\"age\"]]\n",
    "# sub[\"age_err\"] = [0.1 if not m.isnan(_) else float(\"nan\") for _ in sub[\"age\"]]\n",
    "sample = np.array([data[key] for key in quantities]).T\n",
    "errors = np.array([data[\"%s_err\" % (key)] for key in quantities]).T\n",
    "model = len(bfout.history[\"time\"]) * [None]\n",
    "for i in range(len(model)):\n",
    "    model[i] = len(quantities) * [0.]\n",
    "    for j in range(len(quantities)):\n",
    "#         if quantities[j] == \"age\":\n",
    "#             model[i][j] = m.log10(bfout.history[\"lookback\"][i] + cosmological_age - bf_duration)\n",
    "#         else:\n",
    "        model[i][j] = bfout.history[quantities[j]][i]\n",
    "model = model[1:] # chop off the -inf [Fe/H] predicted at t = 0\n",
    "weights = bfout.history[\"sfr\"][1:]\n",
    "N = 0\n",
    "for i in range(len(sample)):\n",
    "    for j in range(len(sample[i])):\n",
    "        if not m.isnan(sample[i][j]): N += 1\n",
    "print(N)\n",
    "chisq = chisquared(sample, errors, model, weights)\n",
    "print(chisq / (N - 6))"
   ]
  },
  {
   "cell_type": "code",
   "execution_count": null,
   "id": "609ce686",
   "metadata": {},
   "outputs": [],
   "source": []
  }
 ],
 "metadata": {
  "kernelspec": {
   "display_name": "Python [conda env:python3.10] *",
   "language": "python",
   "name": "conda-env-python3.10-py"
  },
  "language_info": {
   "codemirror_mode": {
    "name": "ipython",
    "version": 3
   },
   "file_extension": ".py",
   "mimetype": "text/x-python",
   "name": "python",
   "nbconvert_exporter": "python",
   "pygments_lexer": "ipython3",
   "version": "3.10.4"
  }
 },
 "nbformat": 4,
 "nbformat_minor": 5
}
