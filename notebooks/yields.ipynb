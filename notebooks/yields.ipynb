{
 "cells": [
  {
   "cell_type": "code",
   "execution_count": 1,
   "id": "fd1227c5",
   "metadata": {},
   "outputs": [
    {
     "name": "stdout",
     "output_type": "stream",
     "text": [
      "sys.version_info(major=3, minor=10, micro=4, releaselevel='final', serial=0)\n"
     ]
    }
   ],
   "source": [
    "import matplotlib.pyplot as plt\n",
    "from plots.mpltoolkit import named_colors, mpl_loc, markers, fancy_legend, load_mpl_presets\n",
    "import vice\n",
    "import numpy as np\n",
    "import sys\n",
    "import os\n",
    "print(sys.version_info)\n",
    "load_mpl_presets()"
   ]
  },
  {
   "cell_type": "code",
   "execution_count": 28,
   "id": "a345744b",
   "metadata": {},
   "outputs": [
    {
     "name": "stderr",
     "output_type": "stream",
     "text": [
      "/var/folders/mh/jf6nfbl941l_41vvvwwk5wbr0000gn/T/ipykernel_31036/3171449750.py:54: ScienceWarning: The Limongi & Chieffi (2018), ApJS, 237, 13 study published only the results which adopted a fixed yield of nickel-56, and these are the yields which are\n",
      "installed in this version of VICE. For this reason, we caution the user on these yields of iron peak elements.\n",
      "  yfe, err = vice.yields.ccsne.fractional('fe', **kwargs)\n"
     ]
    },
    {
     "data": {
      "image/png": "[encoded data removed]",
      "text/plain": [
       "<Figure size 360x360 with 2 Axes>"
      ]
     },
     "metadata": {},
     "output_type": "display_data"
    }
   ],
   "source": [
    "fig = plt.figure(figsize = (5, 5), facecolor = \"white\")\n",
    "axes = []\n",
    "for i in range(2):\n",
    "    axes.append(fig.add_subplot(211 + i))\n",
    "    axes[i].set_ylabel(r\"[%s/Fe]$_\\text{CC}$\" % ([\"O\", \"Mg\"][i]))\n",
    "    axes[i].set_xlim([-3.4, 0.4])\n",
    "axes[1].set_xlabel(r\"$\\log_{10}(Z / Z_\\odot)$\")\n",
    "plt.setp(axes[0].get_xticklabels(), visible = False)\n",
    "axes[0].set_ylim([0.28, 0.52])\n",
    "axes[1].set_ylim([-0.3, 0.6])\n",
    "axes[1].set_yticks([-0.2, 0, 0.2, 0.4])\n",
    "\n",
    "bestfit_yfecc = 7.78e-4\n",
    "bestfit_yfecc_upper = 7.78e-4 + 3.7e-5\n",
    "bestfit_yfecc_lower = 7.78e-4 - 3.8e-5\n",
    "studies = [\"LC18\", \"S16/W18\"]\n",
    "MoverH = {\n",
    "    \"LC18\": [-3, -2, -1, 0],\n",
    "    \"S16/W18\": [0],\n",
    "    \"NKT13\": [-1.15, -0.54, -0.24, 0.15, 0.55],\n",
    "    \"WW95\": [-4, -2, -1, 0]\n",
    "}\n",
    "rotation = {\n",
    "    \"LC18\": [0],\n",
    "    \"S16/W18\": [0],\n",
    "    \"NKT13\": [0],\n",
    "    \"WW95\": [0]\n",
    "}\n",
    "# pointstyles = {\n",
    "#     0: \"triangle_up\",\n",
    "#     150: \"circle\",\n",
    "#     300: \"star\"\n",
    "# }\n",
    "pointstyles = {\n",
    "    \"LC18\": \"circle\",\n",
    "    \"S16/W18\": \"square\"\n",
    "}\n",
    "colors = {\n",
    "    \"LC18\": \"crimson\",\n",
    "    \"S16/W18\": \"blue\",\n",
    "    \"NKT13\": \"lime\",\n",
    "    \"WW95\": \"black\"\n",
    "}\n",
    "for study in studies:\n",
    "    for met in MoverH[study]:\n",
    "        for rot in rotation[study]:\n",
    "            kwargs = {\n",
    "                \"study\": study,\n",
    "                \"MoverH\": met,\n",
    "                \"rotation\": rot\n",
    "            }\n",
    "            yo, err = vice.yields.ccsne.fractional('o', **kwargs)\n",
    "            ymg, err = vice.yields.ccsne.fractional('mg', **kwargs)\n",
    "            yfe, err = vice.yields.ccsne.fractional('fe', **kwargs)\n",
    "            ofe_cc = np.log10(yo / yfe) - np.log10(vice.solar_z['o'] / vice.solar_z['fe'])\n",
    "            mgfe_cc = np.log10(ymg / yfe) - np.log10(vice.solar_z['mg'] / vice.solar_z['fe'])\n",
    "            kwargs = {\n",
    "                \"marker\": markers()[pointstyles[study]],\n",
    "                \"c\": named_colors()[colors[study]], \n",
    "                \"s\": 50\n",
    "            }\n",
    "            axes[0].scatter(met, ofe_cc, **kwargs)\n",
    "            axes[1].scatter(met, mgfe_cc, **kwargs)\n",
    "            \n",
    "kwargs = {\n",
    "    \"linestyle\": ':',\n",
    "    \"color\": named_colors()[\"black\"]\n",
    "}\n",
    "\n",
    "def plateau_height(elem, feyield):\n",
    "    y = {'o': 0.01, 'mg': 1.2e-3}[elem]\n",
    "    return np.log10(y / feyield) - np.log10(vice.solar_z[elem] / vice.solar_z['fe'])\n",
    "\n",
    "axes[0].axhline(plateau_height('o', bestfit_yfecc), **kwargs)\n",
    "axes[1].axhline(plateau_height('mg', bestfit_yfecc), **kwargs)\n",
    "axes[0].fill_between(axes[0].get_xlim(), plateau_height('o', bestfit_yfecc_lower),\n",
    "    plateau_height('o', bestfit_yfecc_upper), color = named_colors()[\"black\"], alpha = 0.3)\n",
    "axes[1].fill_between(axes[1].get_xlim(), plateau_height('mg', bestfit_yfecc_lower),\n",
    "    plateau_height('mg', bestfit_yfecc_upper), color = named_colors()[\"black\"], alpha = 0.3)\n",
    "\n",
    "plt.tight_layout()\n",
    "plt.subplots_adjust(hspace = 0)\n",
    "plt.show()"
   ]
  },
  {
   "cell_type": "code",
   "execution_count": 19,
   "id": "3a626855",
   "metadata": {},
   "outputs": [
    {
     "data": {
      "text/plain": [
       "0.0012355"
      ]
     },
     "execution_count": 19,
     "metadata": {},
     "output_type": "execute_result"
    }
   ],
   "source": [
    "1.75 * vice.solar_z['mg']"
   ]
  },
  {
   "cell_type": "code",
   "execution_count": 33,
   "id": "6a9a9f7d",
   "metadata": {},
   "outputs": [
    {
     "name": "stderr",
     "output_type": "stream",
     "text": [
      "/var/folders/mh/jf6nfbl941l_41vvvwwk5wbr0000gn/T/ipykernel_31036/56687041.py:1: ScienceWarning: Supernovae yields from the Nomoto, Kobayashi & Tominaga (2013), ARA&A, 51, 457 study are sampled on a grid of stellar masses up to 40 Msun at this metallicity. Employing an upper mass limit larger than this may introduce numerical artifacts. Got: 100 Msun\n",
      "  vice.yields.ccsne.fractional('o', study = \"NKT13\", MoverH = 0.15)\n"
     ]
    },
    {
     "data": {
      "text/plain": [
       "[0.023142845636797863, 2.373316282645893e-05]"
      ]
     },
     "execution_count": 33,
     "metadata": {},
     "output_type": "execute_result"
    }
   ],
   "source": [
    "vice.yields.ccsne.fractional('o', study = \"NKT13\", MoverH = 0.15)"
   ]
  },
  {
   "cell_type": "code",
   "execution_count": null,
   "id": "74546b30",
   "metadata": {},
   "outputs": [],
   "source": []
  }
 ],
 "metadata": {
  "kernelspec": {
   "display_name": "Python [conda env:python3.10] *",
   "language": "python",
   "name": "conda-env-python3.10-py"
  },
  "language_info": {
   "codemirror_mode": {
    "name": "ipython",
    "version": 3
   },
   "file_extension": ".py",
   "mimetype": "text/x-python",
   "name": "python",
   "nbconvert_exporter": "python",
   "pygments_lexer": "ipython3",
   "version": "3.10.4"
  }
 },
 "nbformat": 4,
 "nbformat_minor": 5
}
