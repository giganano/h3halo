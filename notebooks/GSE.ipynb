{
 "cells": [
  {
   "cell_type": "code",
   "execution_count": 1,
   "id": "c73d1a83",
   "metadata": {},
   "outputs": [
    {
     "name": "stderr",
     "output_type": "stream",
     "text": [
      "/Users/astrobeard/Work/Research/VICErepos/VICE/vice/__init__.py:141: UserWarning: Using un-released version of VICE\n",
      "  warnings.warn(\"Using un-released version of VICE\", UserWarning)\n"
     ]
    },
    {
     "name": "stdout",
     "output_type": "stream",
     "text": [
      "sys.version_info(major=3, minor=8, micro=8, releaselevel='final', serial=0)\n"
     ]
    }
   ],
   "source": [
    "import matplotlib.pyplot as plt\n",
    "from matplotlib.ticker import FormatStrFormatter as fsf\n",
    "from matplotlib.gridspec import GridSpec\n",
    "from plots.mpltoolkit import named_colors, mpl_loc, fancy_legend, load_mpl_presets, append_axes, markers\n",
    "import vice\n",
    "from vice.yields.presets import JW20\n",
    "import numpy as np\n",
    "import math as m\n",
    "import sys\n",
    "sys.path.append(\"..\")\n",
    "from utils import exponential\n",
    "load_mpl_presets()\n",
    "print(sys.version_info)"
   ]
  },
  {
   "cell_type": "code",
   "execution_count": 20,
   "id": "050c9f8f",
   "metadata": {},
   "outputs": [
    {
     "name": "stdout",
     "output_type": "stream",
     "text": [
      "(472, 4)\n",
      "[-1.4871372  -0.83352224 -1.3056721  -1.3754318  -1.0839403  -0.86073018\n",
      " -1.6437197  -1.0283155  -1.7468884  -1.831019  ]\n",
      "[0.3841143  0.24181838 0.33067891 0.30600873 0.2341942  0.1250261\n",
      " 0.24496079 0.11081072 0.29841003 0.22635898]\n"
     ]
    }
   ],
   "source": [
    "raw = np.genfromtxt(\"../data/gsechem.dat\")\n",
    "print(raw.shape)\n",
    "data = {}\n",
    "data[\"[fe/h]\"] = raw[:, 0]\n",
    "data[\"[fe/h]_err\"] = raw[:, 1]\n",
    "data[\"[o/fe]\"] = raw[:, 2]\n",
    "data[\"[o/fe]_err\"] = raw[:, 3]\n",
    "\n",
    "print(data[\"[fe/h]\"][:10])\n",
    "print(data[\"[o/fe]\"][:10])"
   ]
  },
  {
   "cell_type": "code",
   "execution_count": 30,
   "id": "f2630f33",
   "metadata": {},
   "outputs": [
    {
     "name": "stdout",
     "output_type": "stream",
     "text": [
      "Median [Fe/H] error: 0.0585\n",
      "Median [O/Fe] error: 0.0567\n"
     ]
    },
    {
     "data": {
      "image/png": "[encoded data removed]",
      "text/plain": [
       "<Figure size 360x360 with 1 Axes>"
      ]
     },
     "metadata": {},
     "output_type": "display_data"
    }
   ],
   "source": [
    "fig = plt.figure()\n",
    "ax = fig.add_subplot(111)\n",
    "ax.set_xlabel(\"[Fe/H]\")\n",
    "ax.set_ylabel(r\"[$\\alpha$/Fe]\")\n",
    "\n",
    "med_ofe_err = np.median(data[\"[o/fe]_err\"])\n",
    "med_feh_err = np.median(data[\"[fe/h]_err\"])\n",
    "print(\"Median [Fe/H] error: %.4f\" % (med_feh_err))\n",
    "print(\"Median [O/Fe] error: %.4f\" % (med_ofe_err))\n",
    "kwargs = {\n",
    "#     \"s\": 5,\n",
    "    \"c\": named_colors()[\"black\"],\n",
    "    \"xerr\": med_feh_err,\n",
    "    \"yerr\": med_ofe_err,\n",
    "    \"linestyle\": \"None\"\n",
    "}\n",
    "ax.errorbar(-2.2, -0.1, **kwargs)\n",
    "# ax.errorbar(data[\"[fe/h]\"], data[\"[o/fe]\"], **kwargs)\n",
    "del kwargs[\"xerr\"]\n",
    "del kwargs[\"yerr\"]\n",
    "del kwargs[\"linestyle\"]\n",
    "kwargs[\"s\"] = 5\n",
    "ax.scatter(data[\"[fe/h]\"], data[\"[o/fe]\"], **kwargs)\n",
    "\n",
    "plt.tight_layout()\n",
    "plt.show()"
   ]
  },
  {
   "cell_type": "code",
   "execution_count": null,
   "id": "d88e786a",
   "metadata": {},
   "outputs": [],
   "source": []
  }
 ],
 "metadata": {
  "kernelspec": {
   "display_name": "Python 3",
   "language": "python",
   "name": "python3"
  },
  "language_info": {
   "codemirror_mode": {
    "name": "ipython",
    "version": 3
   },
   "file_extension": ".py",
   "mimetype": "text/x-python",
   "name": "python",
   "nbconvert_exporter": "python",
   "pygments_lexer": "ipython3",
   "version": "3.8.8"
  }
 },
 "nbformat": 4,
 "nbformat_minor": 5
}
