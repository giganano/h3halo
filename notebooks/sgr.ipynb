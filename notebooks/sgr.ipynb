{
 "cells": [
  {
   "cell_type": "code",
   "execution_count": 8,
   "id": "6e845de5",
   "metadata": {},
   "outputs": [
    {
     "name": "stdout",
     "output_type": "stream",
     "text": [
      "sys.version_info(major=3, minor=10, micro=2, releaselevel='final', serial=0)\n"
     ]
    }
   ],
   "source": [
    "import matplotlib.pyplot as plt\n",
    "from matplotlib.ticker import FormatStrFormatter as fsf\n",
    "from matplotlib.gridspec import GridSpec\n",
    "from plots.mpltoolkit import named_colors, mpl_loc, fancy_legend, load_mpl_presets, append_axes, markers\n",
    "import vice\n",
    "vice.yields.ccsne.settings['o'] = 0.01\n",
    "vice.yields.sneia.settings['o'] = 0\n",
    "vice.yields.ccsne.settings['fe'] = 0.0008\n",
    "vice.yields.sneia.settings['fe'] = 0.0011\n",
    "from scipy.stats import multivariate_normal\n",
    "import numpy as np\n",
    "import math as m\n",
    "import sys\n",
    "sys.path.append(\"..\")\n",
    "from src.utils import exponential, chisquared\n",
    "load_mpl_presets()\n",
    "print(sys.version_info)"
   ]
  },
  {
   "cell_type": "code",
   "execution_count": 2,
   "id": "9fad7c97",
   "metadata": {},
   "outputs": [],
   "source": [
    "raw = np.genfromtxt(\"../data/sgr/sgrchem.dat\")\n",
    "data = vice.dataframe({})\n",
    "data[\"[fe/h]\"] = raw[:, 0]\n",
    "data[\"[fe/h]_err\"] = raw[:, 1]\n",
    "data[\"[o/fe]\"] = raw[:, 2]\n",
    "data[\"[o/fe]_err\"] = raw[:, 3]"
   ]
  },
  {
   "cell_type": "code",
   "execution_count": 18,
   "id": "fbe6fa10",
   "metadata": {},
   "outputs": [
    {
     "name": "stderr",
     "output_type": "stream",
     "text": [
      "/Users/astrobeard/Work/Research/VICErepos/VICE/vice/core/pickles.py:310: UserWarning: Encoding functions along with VICE outputs requires the package dill (installable via pip). The following attribute will not be saved with this output: func\n",
      "  warnings.warn(\"\"\"\\\n",
      "/Users/astrobeard/Work/Research/VICErepos/VICE/vice/core/pickles.py:310: UserWarning: Encoding functions along with VICE outputs requires the package dill (installable via pip). The following attribute will not be saved with this output: tau_star\n",
      "  warnings.warn(\"\"\"\\\n"
     ]
    },
    {
     "data": {
      "image/png": "[encoded data removed]",
      "text/plain": [
       "<Figure size 360x360 with 1 Axes>"
      ]
     },
     "metadata": {},
     "output_type": "display_data"
    }
   ],
   "source": [
    "fig = plt.figure()\n",
    "ax = fig.add_subplot(111)\n",
    "ax.set_xlabel(\"[Fe/H]\")\n",
    "ax.set_ylabel(r\"[$\\alpha$/Fe]\")\n",
    "# ax.set_xlim([-3.2, -0.2])\n",
    "# ax.set_ylim([-0.2, 0.6])\n",
    "# ax.set_yticks([-0.2, 0, 0.2, 0.4, 0.6])\n",
    "\n",
    "# kwargs = {\n",
    "#     \"c\": named_colors()[\"black\"],\n",
    "#     \"linestyle\": \"None\",\n",
    "#     \"xerr\": data[\"[fe/h]_err\"],\n",
    "#     \"yerr\": data[\"[o/fe]_err\"]\n",
    "# }\n",
    "# ax.errorbar(data[\"[fe/h]\"], data[\"[o/fe]\"], **kwargs)\n",
    "\n",
    "kwargs = {\n",
    "    \"c\": named_colors()[\"black\"],\n",
    "    \"s\": 10\n",
    "}\n",
    "ax.scatter(data[\"[fe/h]\"], data[\"[o/fe]\"], **kwargs)\n",
    "\n",
    "med_feh_err = np.median(data[\"[fe/h]_err\"])\n",
    "med_ofe_err = np.median(data[\"[o/fe]_err\"])\n",
    "ax.errorbar(-0.6, 0.45, xerr = med_feh_err, yerr = med_ofe_err,\n",
    "    c = named_colors()[\"black\"])\n",
    "\n",
    "def ifr(t):\n",
    "    return t * np.exp(-t / 0.93)\n",
    "\n",
    "def tstar(t):\n",
    "    onset = 8.80\n",
    "    rampup = 0.08\n",
    "    top = 176.74\n",
    "    bottom = 22.98\n",
    "    if t < onset:\n",
    "        return top\n",
    "    elif onset <= t <= onset + rampup:\n",
    "        return top - (top - bottom) / rampup * (t - onset)\n",
    "    else:\n",
    "        return bottom\n",
    "\n",
    "with vice.singlezone(name = \"sgrtest\") as sz:\n",
    "    vice.yields.ccsne.settings['fe'] = 0.00038\n",
    "    vice.yields.sneia.settings['fe'] = 0.00224\n",
    "    duration = 12.75\n",
    "    sz.mode = \"ifr\"\n",
    "    sz.func = ifr\n",
    "    sz.tau_star = tstar\n",
    "    sz.eta = 5.78\n",
    "    sz.dt = duration / 1000\n",
    "    bfout = sz.run(np.linspace(0, duration, 1001), overwrite = True, capture = True)\n",
    "    ax.plot(out.history[\"[fe/h]\"], out.history[\"[o/fe]\"], c = named_colors()[\"crimson\"])\n",
    "\n",
    "plt.tight_layout()\n",
    "plt.show()"
   ]
  },
  {
   "cell_type": "code",
   "execution_count": 19,
   "id": "870c10a2",
   "metadata": {},
   "outputs": [
    {
     "name": "stdout",
     "output_type": "stream",
     "text": [
      "5.366516818638337\n"
     ]
    }
   ],
   "source": [
    "quantities = list(filter(lambda _: not _.endswith(\"_err\"), data.keys()))\n",
    "sample = np.array([data[key] for key in quantities]).T\n",
    "errors = np.array([data[\"%s_err\" % (key)] for key in quantities]).T\n",
    "model = len(bfout.history[\"time\"]) * [None]\n",
    "for i in range(len(model)):\n",
    "    model[i] = len(quantities) * [0.]\n",
    "    for j in range(len(quantities)):\n",
    "        # no age information in the Sgr data (all distant giants)\n",
    "        model[i][j] = bfout.history[quantities[j]][i]\n",
    "model = model[1:] # chop off the -inf [Fe/H] predicted at t = 0\n",
    "weights = bfout.history[\"sfr\"][1:]\n",
    "chisq = chisquared(sample, errors, model, weights)\n",
    "print(chisq / (len(quantities) * len(sample) - 9))"
   ]
  },
  {
   "cell_type": "code",
   "execution_count": null,
   "id": "6098e7a0",
   "metadata": {},
   "outputs": [],
   "source": []
  }
 ],
 "metadata": {
  "kernelspec": {
   "display_name": "Python [conda env:py3.10] *",
   "language": "python",
   "name": "conda-env-py3.10-py"
  },
  "language_info": {
   "codemirror_mode": {
    "name": "ipython",
    "version": 3
   },
   "file_extension": ".py",
   "mimetype": "text/x-python",
   "name": "python",
   "nbconvert_exporter": "python",
   "pygments_lexer": "ipython3",
   "version": "3.10.2"
  }
 },
 "nbformat": 4,
 "nbformat_minor": 5
}
