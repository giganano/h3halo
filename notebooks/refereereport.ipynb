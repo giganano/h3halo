{
 "cells": [
  {
   "cell_type": "code",
   "execution_count": 1,
   "id": "23bb55b3",
   "metadata": {},
   "outputs": [
    {
     "name": "stderr",
     "output_type": "stream",
     "text": [
      "/Users/jamesjohnson/Work/Research/VICErepos/VICE/vice/__init__.py:141: UserWarning: Using un-released version of VICE\n",
      "  warnings.warn(\"Using un-released version of VICE\", UserWarning)\n"
     ]
    },
    {
     "name": "stdout",
     "output_type": "stream",
     "text": [
      "sys.version_info(major=3, minor=10, micro=4, releaselevel='final', serial=0)\n"
     ]
    }
   ],
   "source": [
    "import matplotlib.pyplot as plt\n",
    "from plots.mpltoolkit import mpl_loc, named_colors, markers, fancy_legend, load_mpl_presets\n",
    "import numpy as np\n",
    "import vice\n",
    "import sys\n",
    "print(sys.version_info)\n",
    "load_mpl_presets()"
   ]
  },
  {
   "cell_type": "code",
   "execution_count": 19,
   "id": "5e5b3be7",
   "metadata": {},
   "outputs": [
    {
     "name": "stderr",
     "output_type": "stream",
     "text": [
      "/var/folders/mh/jf6nfbl941l_41vvvwwk5wbr0000gn/T/ipykernel_17902/939383696.py:119: ScienceWarning: The Limongi & Chieffi (2018), ApJS, 237, 13 study published only the results which adopted a fixed yield of nickel-56, and these are the yields which are\n",
      "installed in this version of VICE. For this reason, we caution the user on these yields of iron peak elements.\n",
      "  y_fe, _ = vice.yields.ccsne.fractional(\"Fe\", **kwargs)\n"
     ]
    },
    {
     "data": {
      "image/png": "[encoded data removed]",
      "text/plain": [
       "<Figure size 432x432 with 1 Axes>"
      ]
     },
     "metadata": {
      "needs_background": "light"
     },
     "output_type": "display_data"
    }
   ],
   "source": [
    "# fig = plt.figure(figsize = (6, 10))\n",
    "fig = plt.figure(figsize = (6, 6))\n",
    "ax = fig.add_subplot(111)\n",
    "ax.set_xlabel(r\"$\\log_{10}(Z / Z_\\odot)$\")\n",
    "ax.set_ylabel(r\"[Mg/Fe]$_\\text{cc}$\")\n",
    "ax.set_xlim([-3.6, 0.8])\n",
    "ax.set_ylim([-0.3, 0.7])\n",
    "# ax2 = fig.add_subplot(211)\n",
    "# ax1 = fig.add_subplot(212, sharex = ax2)\n",
    "# plt.setp(ax2.get_xticklabels(), visible = False)\n",
    "# ax1.set_ylabel(r\"[O/Fe]$_\\text{cc}$\")\n",
    "# ax1.set_xlabel(r\"$\\log_{10}(Z / Z_\\odot)$\")\n",
    "# ax2.set_ylabel(r\"[Mg/Fe]$_\\text{cc}$\")\n",
    "# ax1.set_xlim([-3.2, 0.8])\n",
    "# ax1.set_ylim([0.28, 0.92])\n",
    "# ax2.set_ylim([-0.3, 0.7])\n",
    "\n",
    "gse_fecc = 7.78e-4\n",
    "gse_fecc_err = 0.37e-4\n",
    "wuk_fecc = 6.17e-4\n",
    "wuk_fecc_err = 0.62e-4\n",
    "yalpha = 0.01\n",
    "gse_plateau = np.log10(yalpha / gse_fecc) - np.log10(vice.solar_z[\"o\"] / vice.solar_z[\"fe\"])\n",
    "wuk_plateau = np.log10(yalpha / wuk_fecc) - np.log10(vice.solar_z[\"o\"] / vice.solar_z[\"fe\"])\n",
    "gse_plateau_err = 1 / np.log(10) * gse_fecc_err / gse_fecc\n",
    "wuk_plateau_err = 1 / np.log(10) * wuk_fecc_err / wuk_fecc\n",
    "kwargs = {\"color\": named_colors()[\"grey\"]}\n",
    "ax.fill_between([-2.5, -2], 2 * [gse_plateau - gse_plateau_err], 2 * [gse_plateau + gse_plateau_err], **kwargs)\n",
    "ax.fill_between([-3, -2.5], 2 * [wuk_plateau - wuk_plateau_err], 2 * [wuk_plateau + wuk_plateau_err], **kwargs)\n",
    "kwargs[\"fontsize\"] = 16\n",
    "ax.text(-1.9, gse_plateau - gse_plateau_err, \"GSE\", **kwargs)\n",
    "ax.text(-2.4, wuk_plateau - wuk_plateau_err / 2, \"Wukong/LMS-1\", **kwargs)\n",
    "\n",
    "# gse_fecc = 7.78e-4\n",
    "# wuk_fecc = 6.17e-4\n",
    "# yalpha = 0.01\n",
    "# gse_plateau = np.log10(yalpha / gse_fecc) - np.log10(vice.solar_z[\"o\"] / vice.solar_z[\"fe\"])\n",
    "# wuk_plateau = np.log10(yalpha / wuk_fecc) - np.log10(vice.solar_z[\"o\"] / vice.solar_z[\"fe\"])\n",
    "# kwargs = {\"c\": named_colors()[\"grey\"], \"linestyle\": \":\"}\n",
    "# ax.axhline(gse_plateau, **kwargs)\n",
    "# ax.axhline(wuk_plateau, **kwargs)\n",
    "# kwargs = {\"color\": named_colors()[\"grey\"], \"fontsize\": 20}\n",
    "# ax.text(ax.get_xlim()[0] + 0.15, gse_plateau + 0.02, \"GSE\", **kwargs)\n",
    "# ax.text(ax.get_xlim()[0] + 0.15, wuk_plateau + 0.02, \"Wukong/LMS-1\", **kwargs)\n",
    "    \n",
    "TABLES = [\"LC18\", \"S16/W18\", \"NKT13\"]\n",
    "# TABLES = [\"LC18\", \"S16/W18\", \"WW95\"]\n",
    "LABELS = {\n",
    "    \"LC18\": \"Limongi \\& Chieffi (2018)\",\n",
    "    \"S16/W18\": \"Sukhbold et al. (2016)\",\n",
    "    \"NKT13\": \"Nomoto, Kobayashi \\& Tominaga (2013)\",\n",
    "    \"WW95\": \"Woosley \\& Weaver (1995)\"\n",
    "}\n",
    "LOGZ = {\n",
    "    \"LC18\": [-3, -2, -1, 0],\n",
    "    \"S16/W18\": [0],\n",
    "    \"NKT13\": [-float(\"inf\"), -1.15, -0.54, -0.24, 0.15, 0.55],\n",
    "    \"WW95\": [-2, -1, 0]\n",
    "}\n",
    "ROTATION = {\n",
    "    \"LC18\": [0, 150, 300],\n",
    "    \"S16/W18\": [0],\n",
    "    \"NKT13\": [0],\n",
    "    \"WW95\": [0]\n",
    "}\n",
    "UPPERS = {\n",
    "    \"LC18\": 120,\n",
    "    \"S16/W18\": 120,\n",
    "    \"NKT13\": 40,\n",
    "    \"WW95\": 150\n",
    "}\n",
    "COLORS = {\n",
    "    \"LC18\": \"black\",\n",
    "    \"S16/W18\": \"dodgerblue\",\n",
    "    \"NKT13\": \"crimson\",\n",
    "    \"WW95\": \"crimson\"\n",
    "}\n",
    "MARKERS = {\n",
    "    0: \"circle\",\n",
    "    150: \"square\",\n",
    "    300: \"x\"\n",
    "}\n",
    "LINESTYLES = {\n",
    "    0: \"-\",\n",
    "    150: \"-.\",\n",
    "    300: \":\"\n",
    "}\n",
    "\n",
    "lines = []\n",
    "for table in TABLES:\n",
    "    kwargs = {\"c\": COLORS[table]}\n",
    "    if table == \"S16/W18\":\n",
    "        kwargs[\"label\"] = \"S16 (W18)\"\n",
    "    else:\n",
    "        kwargs[\"label\"] = table\n",
    "    lines.append(ax.plot([-10, -9], [-10, -9], **kwargs)[0])\n",
    "kwargs = {\n",
    "    \"loc\": mpl_loc(\"lower left\"),\n",
    "    \"ncol\": 1,\n",
    "    \"handlelength\": 0,\n",
    "    \"fontsize\": 15\n",
    "}\n",
    "leg = ax.legend(**kwargs)\n",
    "fancy_legend(leg, [COLORS[table] for table in TABLES])\n",
    "for line in lines: line.remove()\n",
    "ax.add_artist(leg)\n",
    "\n",
    "for table in TABLES:\n",
    "    for rotation in ROTATION[table]:\n",
    "        for logz in LOGZ[table]:\n",
    "            kwargs = {\n",
    "                \"study\": table,\n",
    "                \"MoverH\": logz,\n",
    "                \"rotation\": rotation,\n",
    "                \"m_upper\": UPPERS[table]\n",
    "            }\n",
    "#             y_o, _ = vice.yields.ccsne.fractional(\"O\", **kwargs)\n",
    "            y_mg, _ = vice.yields.ccsne.fractional(\"Mg\", **kwargs)\n",
    "            y_fe, _ = vice.yields.ccsne.fractional(\"Fe\", **kwargs)\n",
    "#             ofe_cc = np.log10(y_o / y_fe) - np.log10(vice.solar_z[\"o\"] / vice.solar_z[\"fe\"])\n",
    "            mgfe_cc = np.log10(y_mg / y_fe) - np.log10(vice.solar_z[\"mg\"] / vice.solar_z[\"fe\"])\n",
    "            kwargs = {\n",
    "                \"c\": COLORS[table],\n",
    "                \"marker\": markers()[MARKERS[rotation]],\n",
    "                \"s\": 50\n",
    "            }\n",
    "            if table == \"LC18\" and logz == 0: kwargs[\"label\"] = r\"$v_\\text{rot} = %d$ km/s\" % (rotation)\n",
    "#             if np.isinf(logz): logz = -3.2\n",
    "            if np.isinf(logz):\n",
    "                ax.arrow(-3.2, mgfe_cc, -0.15, 0, head_width = 0.05, head_length = 0.1, color = kwargs[\"c\"])\n",
    "            else:\n",
    "#             ax1.scatter(logz, ofe_cc, **kwargs)\n",
    "                ax.scatter(logz, mgfe_cc, **kwargs)\n",
    "            \n",
    "kwargs = {\n",
    "    \"loc\": mpl_loc(\"lower center\"),\n",
    "    \"ncol\": 1,\n",
    "    \"fontsize\": 15,\n",
    "#     \"bbox_to_anchor\": (0.01, 0.8)\n",
    "}\n",
    "leg = ax.legend(**kwargs)\n",
    "ax.add_artist(leg)\n",
    "\n",
    "plt.tight_layout()\n",
    "plt.subplots_adjust(hspace = 0)\n",
    "plt.savefig(\"../paper/yield-comparison.pdf\")\n",
    "plt.show()"
   ]
  },
  {
   "cell_type": "code",
   "execution_count": 23,
   "id": "17066e58",
   "metadata": {},
   "outputs": [
    {
     "name": "stderr",
     "output_type": "stream",
     "text": [
      "/var/folders/mh/jf6nfbl941l_41vvvwwk5wbr0000gn/T/ipykernel_33542/2733731249.py:107: ScienceWarning: The Limongi & Chieffi (2018), ApJS, 237, 13 study published only the results which adopted a fixed yield of nickel-56, and these are the yields which are\n",
      "installed in this version of VICE. For this reason, we caution the user on these yields of iron peak elements.\n",
      "  y_fe, _ = vice.yields.ccsne.fractional(\"Fe\", **kwargs)\n"
     ]
    },
    {
     "data": {
      "image/png": "[encoded data removed]",
      "text/plain": [
       "<Figure size 432x720 with 2 Axes>"
      ]
     },
     "metadata": {
      "needs_background": "light"
     },
     "output_type": "display_data"
    }
   ],
   "source": [
    "fig = plt.figure(figsize = (6, 10))\n",
    "ax2 = fig.add_subplot(211)\n",
    "ax1 = fig.add_subplot(212, sharex = ax2)\n",
    "plt.setp(ax2.get_xticklabels(), visible = False)\n",
    "ax1.set_ylabel(r\"[O/Fe]$_\\text{cc}$\")\n",
    "ax1.set_xlabel(r\"$\\log_{10}(Z / Z_\\odot)$\")\n",
    "ax2.set_ylabel(r\"[Mg/Fe]$_\\text{cc}$\")\n",
    "ax1.set_xlim([-3.2, -1.8])\n",
    "ax1.set_ylim([0.36, 0.94])\n",
    "ax2.set_ylim([-0.1, 0.7])\n",
    "ax1.set_xticks([-3, -2])\n",
    "ax2.set_yticks([0, 0.2, 0.4, 0.6])\n",
    "\n",
    "gse_fecc = 7.78e-4\n",
    "wuk_fecc = 6.17e-4\n",
    "yalpha = 0.01\n",
    "gse_plateau = np.log10(yalpha / gse_fecc) - np.log10(vice.solar_z[\"o\"] / vice.solar_z[\"fe\"])\n",
    "wuk_plateau = np.log10(yalpha / wuk_fecc) - np.log10(vice.solar_z[\"o\"] / vice.solar_z[\"fe\"])\n",
    "for ax in [ax1, ax2]:\n",
    "    kwargs = {\"c\": named_colors()[\"black\"], \"linestyle\": \":\"}\n",
    "    ax.axhline(gse_plateau, **kwargs)\n",
    "    ax.axhline(wuk_plateau, **kwargs)\n",
    "    kwargs = {\"color\": named_colors()[\"black\"], \"fontsize\": 20}\n",
    "    ax.text(ax.get_xlim()[0] + 0.15, gse_plateau + 0.02, \"GSE\", **kwargs)\n",
    "    ax.text(ax.get_xlim()[0] + 0.15, wuk_plateau + 0.02, \"Wukong/LMS-1\", **kwargs)\n",
    "    \n",
    "TABLES = [\"LC18\"]\n",
    "# TABLES = [\"LC18\", \"S16/W18\", \"NKT13\"]\n",
    "# TABLES = [\"LC18\", \"S16/W18\", \"WW95\"]\n",
    "LABELS = {\n",
    "    \"LC18\": \"Limongi \\& Chieffi (2018)\",\n",
    "    \"S16/W18\": \"Sukhbold et al. (2016)\",\n",
    "    \"NKT13\": \"Nomoto, Kobayashi \\& Tominaga (2013)\",\n",
    "    \"WW95\": \"Woosley \\& Weaver (1995)\"\n",
    "}\n",
    "LOGZ = {\n",
    "#     \"LC18\": [-3, -2, -1, 0],\n",
    "    \"LC18\": [-3, -2],\n",
    "    \"S16/W18\": [0],\n",
    "    \"NKT13\": [-1.15, -0.54, -0.24, 0.15, 0.55],\n",
    "    \"WW95\": [-2, -1, 0]\n",
    "}\n",
    "ROTATION = {\n",
    "    \"LC18\": [0, 150, 300],\n",
    "    \"S16/W18\": [0],\n",
    "    \"NKT13\": [0],\n",
    "    \"WW95\": [0]\n",
    "}\n",
    "UPPERS = {\n",
    "    \"LC18\": 120,\n",
    "    \"S16/W18\": 120,\n",
    "    \"NKT13\": 40,\n",
    "    \"WW95\": 150\n",
    "}\n",
    "# COLORS = {\n",
    "#     \"LC18\": \"crimson\",\n",
    "#     \"S16/W18\": \"dodgerblue\",\n",
    "#     \"NKT13\": \"crimson\",\n",
    "#     \"WW95\": \"crimson\"\n",
    "# }\n",
    "COLORS = {\n",
    "    0: \"black\",\n",
    "    150: \"crimson\",\n",
    "    300: \"blue\"\n",
    "}\n",
    "# MARKERS = {\n",
    "#     0: \"circle\",\n",
    "#     150: \"square\",\n",
    "#     300: \"x\"\n",
    "# }\n",
    "# LINESTYLES = {\n",
    "#     0: \"-\",\n",
    "#     150: \"-.\",\n",
    "#     300: \":\"\n",
    "# }\n",
    "\n",
    "# lines = []\n",
    "# for table in TABLES:\n",
    "#     kwargs = {\"c\": COLORS[table]}\n",
    "#     if table == \"S16/W18\":\n",
    "#         kwargs[\"label\"] = \"S16 (W18)\"\n",
    "#     else:\n",
    "#         kwargs[\"label\"] = table\n",
    "#     lines.append(ax.plot([-10, -9], [-10, -9], **kwargs)[0])\n",
    "# kwargs = {\n",
    "#     \"loc\": mpl_loc(\"lower left\"),\n",
    "#     \"ncol\": 1,\n",
    "#     \"handlelength\": 0,\n",
    "#     \"fontsize\": 15\n",
    "# }\n",
    "# leg = ax2.legend(**kwargs)\n",
    "# fancy_legend(leg, [COLORS[table] for table in TABLES])\n",
    "# for line in lines: line.remove()\n",
    "# ax2.add_artist(leg)\n",
    "\n",
    "for table in TABLES:\n",
    "    for rotation in ROTATION[table]:\n",
    "        for logz in LOGZ[table]:\n",
    "            kwargs = {\n",
    "                \"study\": table,\n",
    "                \"MoverH\": logz,\n",
    "                \"rotation\": rotation,\n",
    "                \"m_upper\": UPPERS[table]\n",
    "            }\n",
    "            y_o, _ = vice.yields.ccsne.fractional(\"O\", **kwargs)\n",
    "            y_mg, _ = vice.yields.ccsne.fractional(\"Mg\", **kwargs)\n",
    "            y_fe, _ = vice.yields.ccsne.fractional(\"Fe\", **kwargs)\n",
    "            ofe_cc = np.log10(y_o / y_fe) - np.log10(vice.solar_z[\"o\"] / vice.solar_z[\"fe\"])\n",
    "            mgfe_cc = np.log10(y_mg / y_fe) - np.log10(vice.solar_z[\"mg\"] / vice.solar_z[\"fe\"])\n",
    "            kwargs = {\n",
    "                \"c\": COLORS[rotation],\n",
    "                \"marker\": markers()[\"circle\"],\n",
    "                \"s\": 50\n",
    "            }\n",
    "#             if table == \"LC18\" and logz == 0: kwargs[\"label\"] = r\"$v_\\text{rot} = %d$ km/s\" % (rotation)\n",
    "            ax1.scatter(logz, ofe_cc, **kwargs)\n",
    "            ax2.scatter(logz, mgfe_cc, **kwargs)\n",
    "\n",
    "lines = []\n",
    "for rotation in COLORS.keys():\n",
    "    kwargs = {\n",
    "        \"c\": named_colors()[COLORS[rotation]],\n",
    "        \"label\": r\"$v_\\text{rot} = %d$ km/s\" % (rotation)\n",
    "    }\n",
    "    lines.append(ax1.plot([-10, -9], [-10, -9], **kwargs)[0])\n",
    "kwargs = {\n",
    "    \"loc\": mpl_loc(\"upper center\"),\n",
    "    \"ncol\": 1,\n",
    "    \"fontsize\": 18,\n",
    "    \"handlelength\": 0\n",
    "#     \"bbox_to_anchor\": (0.01, 0.8)\n",
    "}\n",
    "leg = ax1.legend(**kwargs)\n",
    "fancy_legend(leg, [COLORS[_] for _ in COLORS.keys()])\n",
    "for line in lines: line.remove()\n",
    "# ax2.add_artist(leg)\n",
    "\n",
    "plt.tight_layout()\n",
    "plt.subplots_adjust(hspace = 0)\n",
    "plt.savefig(\"../paper/yield-comparison.pdf\")\n",
    "plt.show()"
   ]
  },
  {
   "cell_type": "code",
   "execution_count": 28,
   "id": "0ecb8999",
   "metadata": {},
   "outputs": [
    {
     "data": {
      "text/plain": [
       "[0.0036512768277795864, 3.688250595611259e-06]"
      ]
     },
     "execution_count": 28,
     "metadata": {},
     "output_type": "execute_result"
    }
   ],
   "source": [
    "vice.yields.ccsne.fractional(\"o\", study = \"LC18\", MoverH = 0)"
   ]
  },
  {
   "cell_type": "code",
   "execution_count": 29,
   "id": "cceaf0e2",
   "metadata": {},
   "outputs": [
    {
     "data": {
      "text/plain": [
       "0.38745019920318724"
      ]
     },
     "execution_count": 29,
     "metadata": {},
     "output_type": "execute_result"
    }
   ],
   "source": [
    "0.778 / (0.778 + 1.23)"
   ]
  },
  {
   "cell_type": "code",
   "execution_count": 30,
   "id": "ba8a6df7",
   "metadata": {},
   "outputs": [
    {
     "data": {
      "text/plain": [
       "0.20316101415870927"
      ]
     },
     "execution_count": 30,
     "metadata": {},
     "output_type": "execute_result"
    }
   ],
   "source": [
    "0.617 / (0.617 + 2.42)"
   ]
  },
  {
   "cell_type": "code",
   "execution_count": null,
   "id": "b3889a42",
   "metadata": {},
   "outputs": [],
   "source": []
  }
 ],
 "metadata": {
  "kernelspec": {
   "display_name": "Python [conda env:python3.10] *",
   "language": "python",
   "name": "conda-env-python3.10-py"
  },
  "language_info": {
   "codemirror_mode": {
    "name": "ipython",
    "version": 3
   },
   "file_extension": ".py",
   "mimetype": "text/x-python",
   "name": "python",
   "nbconvert_exporter": "python",
   "pygments_lexer": "ipython3",
   "version": "3.10.4"
  }
 },
 "nbformat": 4,
 "nbformat_minor": 5
}
