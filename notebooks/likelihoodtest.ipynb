{
 "cells": [
  {
   "cell_type": "code",
   "execution_count": 1,
   "id": "0efaedb6",
   "metadata": {},
   "outputs": [
    {
     "name": "stderr",
     "output_type": "stream",
     "text": [
      "/var/home/johnson.7419.local/VICE/vice/__init__.py:141: UserWarning: Using un-released version of VICE\n",
      "  warnings.warn(\"Using un-released version of VICE\", UserWarning)\n"
     ]
    },
    {
     "name": "stdout",
     "output_type": "stream",
     "text": [
      "sys.version_info(major=3, minor=10, micro=4, releaselevel='final', serial=0)\n"
     ]
    }
   ],
   "source": [
    "import numpy as np\n",
    "import math as m\n",
    "import vice\n",
    "from vice.yields.presets import JW20\n",
    "import sys\n",
    "sys.path.append(\"..\")\n",
    "from src import mcmc\n",
    "print(sys.version_info)"
   ]
  },
  {
   "cell_type": "code",
   "execution_count": 2,
   "id": "964d8a36",
   "metadata": {},
   "outputs": [],
   "source": [
    "raw = np.genfromtxt(\"../mocksamples/noages.dat\")\n",
    "data = {}\n",
    "data[\"[fe/h]\"] = [row[0] for row in raw]\n",
    "data[\"[fe/h]_err\"] = [row[1] for row in raw]\n",
    "data[\"[o/fe]\"] = [row[2] for row in raw]\n",
    "data[\"[o/fe]_err\"] = [row[3] for row in raw]"
   ]
  },
  {
   "cell_type": "code",
   "execution_count": 34,
   "id": "9994aee2",
   "metadata": {},
   "outputs": [],
   "source": [
    "class test(mcmc):\n",
    "    \n",
    "    def __init__(self, data):\n",
    "        quantities = list(filter(lambda x: not x.endswith(\"_err\"), data.keys()))\n",
    "        self.sample = np.array([data[key] for key in quantities]).T\n",
    "        self.errors = np.array([data[\"%s_err\" % (key)] for key in quantities]).T\n",
    "        super().__init__(data)\n",
    "    \n",
    "    def __call__(self, model):\n",
    "        log_L_d_m = 0\n",
    "        weights = np.random.rand(len(model))\n",
    "        norm = sum(weights)\n",
    "        weights = np.array([_ / norm for _ in weights])\n",
    "        for i in range(len(self.sample)):\n",
    "            L_di_m = 0\n",
    "            cov = np.diag(self.errors[i]**2)\n",
    "            invcov = np.linalg.inv(cov)\n",
    "            for j in range(len(model)):\n",
    "                delta = self.sample[i] - model[j]\n",
    "                L_di_mj = weights[j] * m.exp(-0.5 * np.matmul(np.matmul(\n",
    "                    delta, invcov), delta.T))\n",
    "#                 L_di_mj = 1 / len(model) * m.exp(-0.5 * np.matmul(np.matmul(\n",
    "#                     delta, invcov), delta.T))\n",
    "                L_di_m += L_di_mj\n",
    "            log_L_di_m = m.log(L_di_m)\n",
    "            log_L_d_m += log_L_di_m\n",
    "        print(log_L_d_m)\n",
    "        \n",
    "        self._fd.model = model\n",
    "#         self._fd.weights = len(model) * [1 / len(model)]\n",
    "        self._fd.weights = weights\n",
    "        print(self._fd())"
   ]
  },
  {
   "cell_type": "code",
   "execution_count": 35,
   "id": "56ab268f",
   "metadata": {},
   "outputs": [
    {
     "name": "stdout",
     "output_type": "stream",
     "text": [
      "-18613.40363048271\n",
      "-18613.40363048271\n"
     ]
    }
   ],
   "source": [
    "xvals = np.linspace(-1, 0, 100)\n",
    "yvals = np.array([-0.2 * _ for _ in xvals])\n",
    "model = np.array([xvals, yvals]).T\n",
    "test_mcmc = test(data)\n",
    "test_mcmc(model)"
   ]
  },
  {
   "cell_type": "code",
   "execution_count": null,
   "id": "38ceb8cd",
   "metadata": {},
   "outputs": [],
   "source": []
  }
 ],
 "metadata": {
  "kernelspec": {
   "display_name": "Python 3 (ipykernel)",
   "language": "python",
   "name": "python3"
  },
  "language_info": {
   "codemirror_mode": {
    "name": "ipython",
    "version": 3
   },
   "file_extension": ".py",
   "mimetype": "text/x-python",
   "name": "python",
   "nbconvert_exporter": "python",
   "pygments_lexer": "ipython3",
   "version": "3.10.4"
  }
 },
 "nbformat": 4,
 "nbformat_minor": 5
}
