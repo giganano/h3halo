{
 "cells": [
  {
   "cell_type": "markdown",
   "id": "ddce1a26",
   "metadata": {},
   "source": [
    "# Fitting the Gaia Sausage Enceladus Abundances with One-Zone Models\n",
    "\n",
    "If we apply the fitting routines that we explored for mock samples to the GSE, what does that imply about the evolutionary history of the GSE progenitor?"
   ]
  },
  {
   "cell_type": "markdown",
   "id": "e353878f",
   "metadata": {},
   "source": [
    "We begin with an $N = 472$ sample of GSE stars with no age information (ask Charlie for specifics of sample selection). For this sample we have measurements of [Fe/H] and [$\\alpha$/Fe], with the latter incorporating all of the alpha elements. However, in the wavelength range that H3 operates, Mg has many more spectral lines than other alpha elements, making [$\\alpha$/Fe] essentially a proxy for [Mg/Fe]. We additionally make use of an $N = 189$ sample of GSE stars with higher signal-to-noise, 95 of which have age information available. \n",
    "\n",
    "We show both samples below in the [$\\alpha$/Fe]-[Fe/H] plane in the left hand panel below, and for the smaller sample (in red everywhere), we additionally show the age-[Fe/H] and age-[O/Fe] relations in the middle and right hand panels. The error bars on each panel denote the median error in each quantity for the corresponding sample.\n",
    "\n",
    "We show the distribution of both samples in the [$\\alpha$/Fe]-[Fe/H] plane below, with the larger sample in black and the smaller sample in red.\n",
    "\n",
    "![gse_samples](GSE_samples.jpeg) "
   ]
  },
  {
   "cell_type": "markdown",
   "id": "1b18f8ea",
   "metadata": {},
   "source": [
    "We next apply the same fitting routines explored in the context of mock samples with an exponential infall history characterized by an e-folding timescale $\\tau_\\text{in}$, constant star formation timescale $\\tau_\\star$, constant mass loading factor $\\eta$, and some duration of star formation $\\tau_\\text{tot}$. Below we show the corner plot with the 2-dimensional cross sections of the likelihood function for the $N = 472$ sample with no age information.\n",
    "\n",
    "![gsechem_orig_fit](gsechem_orig_25600.jpg)"
   ]
  },
  {
   "cell_type": "markdown",
   "id": "0c4d0f8c",
   "metadata": {},
   "source": [
    "This fit suggests an $\\sim$ 8.8 Gyr duration of star formation in the GSE, and an e-folding timescale of the infall history of $\\sim$ 2.1 Gyr. Star formation was relatively inefficient ($\\tau_\\star \\approx 22.5$ Gyr), and outflows relatively strong ($\\eta \\approx 15.71$). Weak star formation and strong outflows are expected for a dwarf galaxy since a small fraction of its gas reservoir will be able to shield itself against the cosmic UV background, and strong outflows are also expected because of the weak gravitational potential. It is more or less necessitated by the requirement of a low equilibrium abundance suggested by the data.\n",
    "\n",
    "Below we show the predicted tracks in [O/Fe]-[Fe/H] as well as distributions in age, [Fe/H], and [O/Fe] in comparison to the sample shown in black. The best fit model is shown in red along with 200 additional one-zone models drawn from the posterior and plotted as high-transparency lines to give a sense of the uncertainty in the fit. We additionally draw $10^4$ stars from the star formation history in this model, perturb their ages and abundances by drawing from gaussian distributions with the same width as the median uncertainties in the model, then rebinning and plotting the distributions in light blue.\n",
    "\n",
    "![gsechem_orig_dist](gsechem_orig_distcomp.jpeg)"
   ]
  },
  {
   "cell_type": "markdown",
   "id": "49acb47d",
   "metadata": {},
   "source": [
    "Below we show the same figures but for the smaller $N = 189$ sample where 95 stars have age information. We include this age information in the fit, still basing the likelihood calculation on abundances for all stars, but including age information where available.\n",
    "\n",
    "![gsechem_fit](gsechem_withages_25600.jpg)\n",
    "\n",
    "![gsechem_dist](gsechem_withages_distributions.jpeg)"
   ]
  },
  {
   "cell_type": "markdown",
   "id": "0f739616",
   "metadata": {},
   "source": [
    "As we've seen in the mock samples, including age information gets rid of much of the degeneracy between $\\tau_\\text{in}$ and $\\tau_\\text{tot}$. Interestingly, this fit favors a shorter duration of star formation ($\\sim$ 6.8 versus 8.8 Gyr) and a shorter e-folding timescale on the accretion history ($\\sim$ 1.4 versus 2.1 Gyr).\n",
    "\n",
    "In the mock samples, sample size appears to affect the accuracy of fits, but having only explored a handful of mock samples, it remains to be seen if we should be worried about the small sample size of the $N = 189$ sample or the lower signal-to-noise of the $N = 472$ sample. $\\tau_\\text{tot} = 6.78$ Gyr puts the accretion of the GSE progenitor at a lookback time of $\\sim$ 7.22 Gyr (taking 14 Gyr as the age of the universe as in the H3 stellar age prior), which is more in line with the direct stellar age measurements of the GSE placing it at $\\sim$ 8 Gyr ago."
   ]
  },
  {
   "cell_type": "markdown",
   "id": "ac89a8a7",
   "metadata": {},
   "source": [
    "## Including the [$\\alpha$/Fe] Plateau Height as a Free Parameter\n",
    "\n",
    "The plateau in [$\\alpha$/Fe] occurs at the IMF-integrated yield ratio from massive stars. On the solar logarithmic scale:\n",
    "\n",
    "$$\n",
    "\\begin{aligned}\n",
    "\\left[\\alpha/\\text{Fe}\\right]_\\text{CC} &= \\log_{10}\\left(\\frac{y_\\alpha^\\text{CC}}{y_\\text{Fe}^\\text{CC}}\\right) -\n",
    "\\log_{10}\\left(\\frac{Z_{\\alpha,\\odot}}{Z_{\\text{Fe},\\odot}}\\right)\n",
    "\\\\\n",
    "10^{\\left[\\alpha/\\text{Fe}\\right]_\\text{CC}} &= \\left(\\frac{y_\\alpha^\\text{CC}}{y_\\text{Fe}^\\text{CC}}\\right)\n",
    "\\left(\\frac{Z_{\\text{Fe},\\odot}}{Z_{\\alpha,\\odot}}\\right)\n",
    "\\\\\n",
    "\\frac{y_\\alpha^\\text{CC}}{y_\\text{Fe}^\\text{CC}} &= \\left(\\frac{Z_{\\alpha,\\odot}}{Z_{\\text{Fe},\\odot}}\\right)\n",
    "10^{\\left[\\alpha/\\text{Fe}\\right]_\\text{CC}}\n",
    "\\end{aligned}\n",
    "$$\n",
    "\n",
    "For a given choice of $\\left[\\alpha/\\text{Fe}\\right]_\\text{CC}$, the $\\alpha$ and Fe yields from massive stars $y_\\alpha^\\text{CC}$ and $y_\\text{Fe}^\\text{CC}$ obey this relation. However, determining a best-fit $\\left[\\alpha/\\text{Fe}\\right]_\\text{CC}$ cannot be done by holding $y_\\text{Fe}^\\text{CC}$ fixed and adjusting $y_\\alpha^\\text{CC}$, because the difference in $\\left[\\alpha/\\text{Fe}\\right]$ values between the high- and low-alpha sequences is a consequence not of different alpha element abundances, but of the contribution of SN Ia to the Fe abundance. Adjusting $y_\\alpha^\\text{CC}$ would adjust the [$\\alpha$/Fe]-[Fe/H] track everywhere, while we want to hold the end-point fixed at $\\left[\\alpha/\\text{Fe}\\right] \\approx 0$ and adjust the vertical span. To do this, we must adjust the relative CCSN and SN Ia yields of Fe.\n",
    "\n",
    "For a constant SFH, the equilibrium $\\left[\\alpha/\\text{Fe}\\right]$ can be related to the yields according to:\n",
    "\n",
    "$$\n",
    "\\begin{aligned}\n",
    "\\left[\\alpha/\\text{Fe}\\right]_\\text{eq} &= \n",
    "\\log_{10}\\left(\\frac{y_\\alpha^\\text{CC}}{y_\\text{Fe}^\\text{CC} + y_\\text{Fe}^\\text{Ia}}\\right) -\n",
    "\\log_{10}\\left(\\frac{Z_{\\alpha,\\odot}}{Z_{\\text{Fe},\\odot}}\\right)\n",
    "\\\\\n",
    "10^{\\left[\\alpha/\\text{Fe}\\right]_\\text{eq}} &=\n",
    "\\left(\\frac{y_\\alpha^\\text{CC}}{y_\\text{Fe}^\\text{CC} + y_\\text{Fe}^\\text{Ia}}\\right)\n",
    "\\left(\\frac{Z_{\\text{Fe},\\odot}}{Z_{\\alpha,\\odot}}\\right)\n",
    "\\\\\n",
    "\\frac{y_\\alpha^\\text{CC}}{y_\\text{Fe}^\\text{CC} + y_\\text{Fe}^\\text{Ia}} &=\n",
    "\\left(\\frac{Z_{\\alpha,\\odot}}{Z_{\\text{Fe},\\odot}}\\right)\n",
    "10^{\\left[\\alpha/\\text{Fe}\\right]_\\text{eq}}\n",
    "\\end{aligned}\n",
    "$$"
   ]
  },
  {
   "cell_type": "markdown",
   "id": "bbedb969",
   "metadata": {},
   "source": [
    "We next solve for $y_\\alpha^\\text{CC}$ in the two equations above and equate them, yielding:\n",
    "\n",
    "$$\n",
    "\\begin{aligned}\n",
    "y_\\text{Fe}^\\text{CC}\\left(\\frac{Z_{\\alpha,\\odot}}{Z_{\\text{Fe},\\odot}}\\right)\n",
    "10^{\\left[\\alpha/\\text{Fe}\\right]_\\text{CC}} &=\n",
    "\\left(y_\\text{Fe}^\\text{CC} + y_\\text{Fe}^\\text{Ia}\\right)\n",
    "\\left(\\frac{Z_{\\alpha,\\odot}}{Z_{\\text{Fe},\\odot}}\\right)\n",
    "10^{\\left[\\alpha/\\text{Fe}\\right]_\\text{eq}}\n",
    "\\\\\n",
    "y_\\text{Fe}^\\text{CC}\n",
    "10^{\\left[\\alpha/\\text{Fe}\\right]_\\text{CC}} &=\n",
    "\\left(y_\\text{Fe}^\\text{CC} + y_\\text{Fe}^\\text{Ia}\\right)\n",
    "10^{\\left[\\alpha/\\text{Fe}\\right]_\\text{eq}}\n",
    "\\\\\n",
    "1 + \\frac{y_\\text{Fe}^\\text{Ia}}{y_\\text{Fe}^\\text{CC}} &=\n",
    "10^{\\left[\\alpha/\\text{Fe}\\right]_\\text{cc} - \\left[\\alpha/\\text{Fe}\\right]_\\text{eq}}\n",
    "\\end{aligned}\n",
    "$$"
   ]
  },
  {
   "cell_type": "markdown",
   "id": "0c5564a2",
   "metadata": {},
   "source": [
    "This equation makes intuitive sense. In the limiting case where there is no knee and [$\\alpha$/Fe] $\\approx$ constant, [$\\alpha$/Fe]$_\\text{cc}$ = [$\\alpha$/Fe]$_\\text{eq}$ and the right hand side evaluates to exactly 1, necessitating $y_\\text{Fe}^\\text{Ia} = 0$ as expected.\n",
    "\n",
    "Under our fiducial set of yields ($y_\\alpha^\\text{CC} = 0.015$, $y_\\text{Fe}^\\text{CC} = 0.0012$, $y_\\text{Fe}^\\text{Ia} = 0.0012$), [$\\alpha$/Fe]$_\\text{eq} = 0.067$. We hold this parameter fixed along with $y_\\alpha^\\text{CC}$, and then for a specific choice of [$\\alpha$/Fe]$_\\text{CC}$, we compute $y_\\text{Fe}^\\text{CC}$ according to the definition of the plateau (see above) and $y_\\text{Fe}^\\text{Ia}$ according to this relation between [$\\alpha$/Fe]$_\\text{CC}$ and [$\\alpha$/Fe]$_\\text{eq}$.\n",
    "\n",
    "It is worth noting that, under this parameterization, $y_\\text{Fe}^\\text{CC} + y_\\text{Fe}^\\text{Ia}$ = constant. Therefore, since this approach varies the height of the plateau without varying the *total* Fe yield, it should be independent of the yield-outflow degeneracy.\n",
    "\n",
    "Below we show the corner plot of the 2-dimensional cross sections of the 5-dimensional likelihood surface after introducing this new parameter into the fit, and below that we show the distributions in [O/Fe], [Fe/H], and age of the best-fit model along with other sets of parameters sampled from the likelihood distribution at high transparency to give a sense of the uncertainty in the fit.\n",
    "\n",
    "![gseplateau](gsechem_plateau_25600.jpg)\n",
    "\n",
    "![gseplateau_dist](gsechem_plateau_distributions.jpeg)"
   ]
  },
  {
   "cell_type": "markdown",
   "id": "2b8fab98",
   "metadata": {},
   "source": [
    "This fit suggests that [$\\alpha$/Fe]$_\\text{CC} = 0.50 \\pm 0.02$ for the GSE data from H3. The best-fit parameters are consistent with the previous fit assuming [$\\alpha$/Fe]$_\\text{CC}$ = 0.45, but are slightly less precise, which is expected since we've introduced an additional parameter. There is generally good agreement between the best-fit model and the data, though the age distribution is still slightly more flat-topped in the observed sample. Perhaps an infall history of the form $\\dot{M}_\\text{in} \\propto te^{-t/\\tau}$ as opposed to $\\dot{M}_\\text{in} \\propto e^{-t/\\tau}$ would improve the agreement."
   ]
  },
  {
   "cell_type": "code",
   "execution_count": null,
   "id": "6010094c",
   "metadata": {},
   "outputs": [],
   "source": []
  }
 ],
 "metadata": {
  "kernelspec": {
   "display_name": "Python 3",
   "language": "python",
   "name": "python3"
  },
  "language_info": {
   "codemirror_mode": {
    "name": "ipython",
    "version": 3
   },
   "file_extension": ".py",
   "mimetype": "text/x-python",
   "name": "python",
   "nbconvert_exporter": "python",
   "pygments_lexer": "ipython3",
   "version": "3.8.8"
  }
 },
 "nbformat": 4,
 "nbformat_minor": 5
}
