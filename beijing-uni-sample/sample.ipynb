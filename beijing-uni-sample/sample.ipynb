{
 "cells": [
  {
   "cell_type": "code",
   "execution_count": 1,
   "id": "f1e121d3-c76b-4b84-bb15-989e55256dd7",
   "metadata": {},
   "outputs": [
    {
     "name": "stderr",
     "output_type": "stream",
     "text": [
      "/Users/jamesjohnson/Work/Research/lib/public-dev/VICE/vice/__init__.py:141: UserWarning: Using un-released version of VICE\n",
      "  warnings.warn(\"Using un-released version of VICE\", UserWarning)\n"
     ]
    },
    {
     "name": "stdout",
     "output_type": "stream",
     "text": [
      "sys.version_info(major=3, minor=12, micro=3, releaselevel='final', serial=0)\n"
     ]
    }
   ],
   "source": [
    "import matplotlib.pyplot as plt\n",
    "from plots.mpltoolkit import named_colors, mpl_loc, fancy_legend, markers, load_style_sheet\n",
    "import numpy as np\n",
    "import vice\n",
    "import sys\n",
    "from utils import get_sample\n",
    "print(sys.version_info)\n",
    "load_style_sheet(\"papers\")"
   ]
  },
  {
   "cell_type": "code",
   "execution_count": 2,
   "id": "cf1566ed-f1fb-48d9-abc2-ff08a3a53c9b",
   "metadata": {},
   "outputs": [
    {
     "name": "stdout",
     "output_type": "stream",
     "text": [
      "vice.dataframe{\n",
      "    mass -----------> [0.90775, 0.832315, 0.901934, ... , 0.867985, 0.829937, 0.9754]\n",
      "    mass_ep --------> [3.33863e-06, 2.36023e-06, 0.0292849, ... , 0.10479, 0.0872252, 0.0847768]\n",
      "    mass_em --------> [-0.025164, -2.36023e-06, -0.0517818, ... , -0.0527979, -0.041743, -0.101616]\n",
      "    age ------------> [10.7237, 11.858, 10.6958, ... , 10.8932, 11.8064, 7.94105]\n",
      "    age_ep ---------> [1.20336, 0.00304028, 2.49472, ... , 2.66952, 2.18838, 3.85535]\n",
      "    age_em ---------> [-0.000255679, -0.00304028, -1.32613, ... , -3.57435, -3.60419, -2.03025]\n",
      "    feh ------------> [-0.833363, -1.70763, -0.804997, ... , -1.08621, -1.45565, -0.863516]\n",
      "    feh_e ----------> [0.0922915, 0.14293, 0.0548883, ... , 0.0854709, 0.122244, 0.0763962]\n",
      "    mgfe -----------> [0.233569, 0.293988, 0.365623, ... , 0.198814, 0.299822, 0.0639458]\n",
      "    cfe ------------> [-0.0525375, 0.12305, 0.0344879, ... , -0.177906, 0.148452, -0.200945]\n",
      "    nfe ------------> [0.0857756, 0.154694, 0.00881814, ... , -0.131877, 0.051082, -0.164141]\n",
      "    ofe ------------> [0.283144, 0.460515, 0.399403, ... , 0.403412, 0.465164, 0.28827]\n",
      "}\n"
     ]
    }
   ],
   "source": [
    "sample = get_sample()\n",
    "print(sample)"
   ]
  },
  {
   "cell_type": "code",
   "execution_count": null,
   "id": "04a8d0e5-792c-4259-8eed-5ca882143598",
   "metadata": {},
   "outputs": [],
   "source": []
  }
 ],
 "metadata": {
  "kernelspec": {
   "display_name": "Python 3 (ipykernel)",
   "language": "python",
   "name": "python3"
  },
  "language_info": {
   "codemirror_mode": {
    "name": "ipython",
    "version": 3
   },
   "file_extension": ".py",
   "mimetype": "text/x-python",
   "name": "python",
   "nbconvert_exporter": "python",
   "pygments_lexer": "ipython3",
   "version": "3.12.3"
  }
 },
 "nbformat": 4,
 "nbformat_minor": 5
}
